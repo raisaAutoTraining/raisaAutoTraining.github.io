{
 "cells": [
  {
   "cell_type": "code",
   "execution_count": 1,
   "metadata": {},
   "outputs": [
    {
     "name": "stderr",
     "output_type": "stream",
     "text": [
      "C:\\Users\\yhossam\\AppData\\Roaming\\Python\\Python36\\site-packages\\requests\\__init__.py:91: RequestsDependencyWarning: urllib3 (1.25.7) or chardet (3.0.4) doesn't match a supported version!\n",
      "  RequestsDependencyWarning)\n"
     ]
    },
    {
     "data": {
      "application/javascript": [
       "window.genUID = function() {\n",
       "    return 'xxxxxxxx-xxxx-4xxx-yxxx-xxxxxxxxxxxx'.replace(/[xy]/g, function(c) {\n",
       "        var r = Math.random()*16|0, v = c == 'x' ? r : (r&0x3|0x8);\n",
       "        return v.toString(16);\n",
       "    });\n",
       "};\n",
       "\n",
       "\n",
       "define('graphWidget', [\"@jupyter-widgets/base\"], function (widget) {\n",
       "\n",
       "    var GraphView = widget.DOMWidgetView.extend({\n",
       "        render: function(){\n",
       "            var that = this;\n",
       "\n",
       "            var graphId = window.genUID();\n",
       "            var loadingId = 'loading-'+graphId;\n",
       "\n",
       "\n",
       "            var _graph_url = that.model.get('_graph_url');\n",
       "\n",
       "            // variable plotlyDomain in the case of enterprise\n",
       "            var url_parts = _graph_url.split('/');\n",
       "            var plotlyDomain = url_parts[0] + '//' + url_parts[2];\n",
       "\n",
       "            if(!('plotlyDomains' in window)){\n",
       "                window.plotlyDomains = {};\n",
       "            }\n",
       "            window.plotlyDomains[graphId] = plotlyDomain;\n",
       "\n",
       "            // Place IFrame in output cell div `$el`\n",
       "            that.$el.css('width', '100%');\n",
       "            that.$graph = $(['<iframe id=\"'+graphId+'\"',\n",
       "                             'src=\"'+_graph_url+'.embed\"',\n",
       "                             'seamless',\n",
       "                             'style=\"border: none;\"',\n",
       "                             'width=\"100%\"',\n",
       "                             'height=\"600\">',\n",
       "                             '</iframe>'].join(' '));\n",
       "            that.$graph.appendTo(that.$el);\n",
       "\n",
       "            that.$loading = $('<div id=\"'+loadingId+'\">Initializing...</div>')\n",
       "                            .appendTo(that.$el);\n",
       "\n",
       "            // for some reason the 'width' is being changed in IPython 3.0.0\n",
       "            // for the containing `div` element. There's a flicker here, but\n",
       "            // I was unable to fix it otherwise.\n",
       "            setTimeout(function ()  {\n",
       "                if (IPYTHON_VERSION === '3') {\n",
       "                    $('#' + graphId)[0].parentElement.style.width = '100%';\n",
       "                }\n",
       "            }, 500);\n",
       "\n",
       "            // initialize communication with the iframe\n",
       "            if(!('pingers' in window)){\n",
       "                window.pingers = {};\n",
       "            }\n",
       "\n",
       "            window.pingers[graphId] = setInterval(function() {\n",
       "                that.graphContentWindow = $('#'+graphId)[0].contentWindow;\n",
       "                that.graphContentWindow.postMessage({task: 'ping'}, plotlyDomain);\n",
       "            }, 200);\n",
       "\n",
       "            // Assign a message listener to the 'message' events\n",
       "            // from iframe's postMessage protocol.\n",
       "            // Filter the messages by iframe src so that the right message\n",
       "            // gets passed to the right widget\n",
       "            if(!('messageListeners' in window)){\n",
       "                 window.messageListeners = {};\n",
       "            }\n",
       "\n",
       "            window.messageListeners[graphId] = function(e) {\n",
       "                if(_graph_url.indexOf(e.origin)>-1) {\n",
       "                    var frame = document.getElementById(graphId);\n",
       "\n",
       "                    if(frame === null){\n",
       "                        // frame doesn't exist in the dom anymore, clean up it's old event listener\n",
       "                        window.removeEventListener('message', window.messageListeners[graphId]);\n",
       "                        clearInterval(window.pingers[graphId]);\n",
       "                    } else if(frame.contentWindow === e.source) {\n",
       "                        // TODO: Stop event propagation, so each frame doesn't listen and filter\n",
       "                        var frameContentWindow = $('#'+graphId)[0].contentWindow;\n",
       "                        var message = e.data;\n",
       "\n",
       "                        if('pong' in message && message.pong) {\n",
       "                            $('#loading-'+graphId).hide();\n",
       "                            clearInterval(window.pingers[graphId]);\n",
       "                            that.send({event: 'pong', graphId: graphId});\n",
       "                        } else if (message.type==='hover' ||\n",
       "                                   message.type==='zoom'  ||\n",
       "                                   message.type==='click' ||\n",
       "                                   message.type==='unhover') {\n",
       "\n",
       "                            // click and hover events contain all of the data in the traces,\n",
       "                            // which can be a very large object and may take a ton of time\n",
       "                            // to pass to the python backend. Strip out the data, and require\n",
       "                            // the user to call get_figure if they need trace information\n",
       "                            if(message.type !== 'zoom') {\n",
       "                                for(var i in message.points) {\n",
       "                                    delete message.points[i].data;\n",
       "                                    delete message.points[i].fullData;\n",
       "                                }\n",
       "                            }\n",
       "                            that.send({event: message.type, message: message, graphId: graphId});\n",
       "                        } else if (message.task === 'getAttributes') {\n",
       "                            that.send({event: 'getAttributes', response: message.response});\n",
       "                        }\n",
       "                    }\n",
       "                }\n",
       "            };\n",
       "\n",
       "            window.removeEventListener('message', window.messageListeners[graphId]);\n",
       "            window.addEventListener('message', window.messageListeners[graphId]);\n",
       "\n",
       "        },\n",
       "\n",
       "        update: function() {\n",
       "            // Listen for messages from the graph widget in python\n",
       "            var jmessage = this.model.get('_message');\n",
       "            var message = JSON.parse(jmessage);\n",
       "\n",
       "            // check for duplicate messages\n",
       "            if(!('messageIds' in window)){\n",
       "                window.messageIds = {};\n",
       "            }\n",
       "\n",
       "            if(!(message.uid in window.messageIds)){\n",
       "                // message hasn't been received yet, do stuff\n",
       "                window.messageIds[message.uid] = true;\n",
       "\n",
       "                if (message.fadeTo) {\n",
       "                    this.fadeTo(message);\n",
       "                } else {\n",
       "                    var plot = $('#' + message.graphId)[0].contentWindow;\n",
       "                    plot.postMessage(message, window.plotlyDomains[message.graphId]);\n",
       "                }\n",
       "            }\n",
       "\n",
       "            return GraphView.__super__.update.apply(this);\n",
       "        },\n",
       "\n",
       "        /**\n",
       "         * Wrapper for jquery's `fadeTo` function.\n",
       "         *\n",
       "         * @param message Contains the id we need to find the element.\n",
       "         */\n",
       "        fadeTo: function (message) {\n",
       "            var plot = $('#' + message.graphId);\n",
       "            plot.fadeTo(message.duration, message.opacity);\n",
       "        }\n",
       "    });\n",
       "\n",
       "    // Register the GraphView with the widget manager.\n",
       "    return {\n",
       "        GraphView: GraphView\n",
       "    }\n",
       "\n",
       "});\n",
       "\n",
       "//@ sourceURL=graphWidget.js\n"
      ],
      "text/plain": [
       "<IPython.core.display.Javascript object>"
      ]
     },
     "metadata": {},
     "output_type": "display_data"
    },
    {
     "data": {
      "application/vnd.jupyter.widget-view+json": {
       "model_id": "5044d5ec64f54f84a56f0bf122cb766b",
       "version_major": 2,
       "version_minor": 0
      },
      "text/plain": [
       "VBox(children=(HBox(children=(Label(value='Target Risk Probability (%):'), BoundedFloatText(value=5.0, step=1.…"
      ]
     },
     "metadata": {},
     "output_type": "display_data"
    }
   ],
   "source": [
    "import plotly.plotly as py\n",
    "import plotly.graph_objs as go\n",
    "\n",
    "import pandas as pd\n",
    "\n",
    "\n",
    "from IPython.display import display, clear_output\n",
    "from plotly.widgets import GraphWidget\n",
    "import ipywidgets as widgets\n",
    "from ipywidgets.embed import embed_minimal_html\n",
    "\n",
    "import os\n",
    "import numpy as np\n",
    "\n",
    "os.chdir(r'C:/Users/yhossam/Desktop/Work/New Downtime Work')\n",
    "         \n",
    "data = pd.read_csv('discountRatePerSize.csv')\n",
    "\n",
    "\n",
    "\n",
    "def generatePlot(butt):\n",
    "    \n",
    "    \n",
    "    discRateVals=[]\n",
    "    risk=text_input.value\n",
    "    if not 0<risk<100:\n",
    "        valid.value=False\n",
    "        return\n",
    "    else:\n",
    "        valid.value=True\n",
    "    for col in data.columns:\n",
    "        discRateVals.append(np.quantile(data[col],1-risk/100)) \n",
    "    \n",
    "    g2.layout.title.text=\"Recommended Discount Rate for Risk Probablity={}%\".format(risk)\n",
    "    g2.layout.xaxis.title.text=\"Wells Package Size\"\n",
    "    g2.layout.yaxis.title.text=\"Recommended Discount Rate (%)\"\n",
    "    g2.data=[]\n",
    "    g2.add_scatter(x=[int(col) for col in list(data.columns.values)],y=discRateVals);\n",
    "    \n",
    "    \n",
    "\n",
    "\n",
    "g2 = go.FigureWidget()\n",
    "\n",
    "\n",
    "button = widgets.Button(description=\"Submit\")\n",
    "\n",
    "text_input=widgets.BoundedFloatText(\n",
    "    value=5.0,\n",
    "    min=0,\n",
    "    max=100.0,\n",
    "    step=1.0,\n",
    "    description='',\n",
    "    disabled=False\n",
    ")\n",
    "\n",
    "\n",
    "valid = widgets.Valid(\n",
    "    value=True,\n",
    ")\n",
    "\n",
    "# this will be initalize our listener\n",
    "button.on_click(generatePlot)\n",
    "\n",
    "container = widgets.VBox(children=[widgets.HBox(children=[widgets.Label(value=\"Target Risk Probability (%):\"),text_input, button, valid]),g2])\n",
    "display(container)\n",
    "generatePlot(button)\n",
    "embed_minimal_html('export.html', views=[container], title='Widgets export')\n"
   ]
  }
 ],
 "metadata": {
  "kernelspec": {
   "display_name": "Python 3",
   "language": "python",
   "name": "python3"
  },
  "language_info": {
   "codemirror_mode": {
    "name": "ipython",
    "version": 3
   },
   "file_extension": ".py",
   "mimetype": "text/x-python",
   "name": "python",
   "nbconvert_exporter": "python",
   "pygments_lexer": "ipython3",
   "version": "3.6.7"
  },
  "widgets": {
   "application/vnd.jupyter.widget-state+json": {
    "state": {
     "009c4398b96444149134886e82ae5023": {
      "model_module": "@jupyter-widgets/base",
      "model_module_version": "1.1.0",
      "model_name": "LayoutModel",
      "state": {}
     },
     "00adc9de220d4717a1659e914ff6651f": {
      "model_module": "@jupyter-widgets/controls",
      "model_module_version": "1.4.0",
      "model_name": "DescriptionStyleModel",
      "state": {
       "description_width": ""
      }
     },
     "010f55c8889c4f48919347fed38df508": {
      "buffers": [
       {
        "data": "AAAAAAEAAAACAAAAAwAAAAQAAAAFAAAABgAAAAcAAAA=",
        "encoding": "base64",
        "path": [
         "_data",
         0,
         "x",
         "value"
        ]
       },
       {
        "data": "AAAAAAEAAAACAAAAAwAAAAQAAAAFAAAABgAAAAcAAAA=",
        "encoding": "base64",
        "path": [
         "_data",
         1,
         "x",
         "value"
        ]
       },
       {
        "data": "AAAAAAEAAAACAAAAAwAAAAQAAAAFAAAABgAAAAcAAAA=",
        "encoding": "base64",
        "path": [
         "_data",
         2,
         "x",
         "value"
        ]
       }
      ],
      "model_module": "plotlywidget",
      "model_module_version": "^0.11.0",
      "model_name": "FigureModel",
      "state": {
       "_config": {
        "plotlyServerURL": "https://plot.ly"
       },
       "_data": [
        {
         "type": "scatter",
         "uid": "f211574a-27e0-4481-8ade-7f3c12b8293d",
         "x": {
          "dtype": "int32",
          "shape": [
           8
          ]
         },
         "y": [
          20.96598515849485,
          16.079962319178033,
          11.889736083015691,
          9.780018610798596,
          8.226923867139623,
          7.356944179259375,
          7.268476857339998,
          7.297809486986749
         ]
        },
        {
         "type": "scatter",
         "uid": "b4f40648-658a-45b0-8249-17421d2823b5",
         "x": {
          "dtype": "int32",
          "shape": [
           8
          ]
         },
         "y": [
          20.96598515849485,
          16.079962319178033,
          11.889736083015691,
          9.780018610798596,
          8.226923867139623,
          7.356944179259375,
          7.268476857339998,
          7.297809486986749
         ]
        },
        {
         "type": "scatter",
         "uid": "790c0340-4f45-4128-854a-173069ed6829",
         "x": {
          "dtype": "int32",
          "shape": [
           8
          ]
         },
         "y": [
          20.96598515849485,
          16.079962319178033,
          11.889736083015691,
          9.780018610798596,
          8.226923867139623,
          7.356944179259375,
          7.268476857339998,
          7.297809486986749
         ]
        }
       ],
       "_js2py_layoutDelta": {},
       "_js2py_pointsCallback": {},
       "_js2py_relayout": {},
       "_js2py_restyle": {},
       "_js2py_traceDeltas": {},
       "_js2py_update": {},
       "_last_layout_edit_id": 3,
       "_last_trace_edit_id": 3,
       "_layout": {
        "template": {}
       },
       "_py2js_animate": {},
       "_py2js_deleteTraces": {},
       "_py2js_moveTraces": {},
       "_py2js_removeLayoutProps": {},
       "_py2js_removeTraceProps": {},
       "_py2js_restyle": {},
       "_py2js_update": {},
       "_view_count": 0
      }
     },
     "01c82d90d14d4eaeb08fa11bd261c0b5": {
      "model_module": "@jupyter-widgets/controls",
      "model_module_version": "1.4.0",
      "model_name": "ButtonStyleModel",
      "state": {}
     },
     "0208b6d3130e467a85b713a795d78396": {
      "model_module": "@jupyter-widgets/controls",
      "model_module_version": "1.4.0",
      "model_name": "VBoxModel",
      "state": {
       "children": [
        "IPY_MODEL_47b8dbf5bdcf4438af05ec31b407226c",
        "IPY_MODEL_cc42cf1a4777423393e30c94b3b90d6d"
       ],
       "layout": "IPY_MODEL_9ab98b975e1a45c89ba0c64d2a162de9"
      }
     },
     "024931a4a29745d0bb50eafc17ba7282": {
      "model_module": "@jupyter-widgets/base",
      "model_module_version": "1.1.0",
      "model_name": "LayoutModel",
      "state": {}
     },
     "03642c295c1840a8b48435fccc8a7e66": {
      "model_module": "@jupyter-widgets/base",
      "model_module_version": "1.1.0",
      "model_name": "LayoutModel",
      "state": {}
     },
     "03ee96eb40d74364afae54f00c1544c1": {
      "model_module": "@jupyter-widgets/base",
      "model_module_version": "1.1.0",
      "model_name": "LayoutModel",
      "state": {}
     },
     "04f35d5e8df945d7a0a65b34bce47ed9": {
      "model_module": "@jupyter-widgets/base",
      "model_module_version": "1.1.0",
      "model_name": "LayoutModel",
      "state": {}
     },
     "059aed2a4b79455ba539c68349bc76a0": {
      "model_module": "@jupyter-widgets/controls",
      "model_module_version": "1.4.0",
      "model_name": "BoundedFloatTextModel",
      "state": {
       "layout": "IPY_MODEL_39dd78c9cdee4ef6a015c344e617c3d3",
       "step": 1,
       "style": "IPY_MODEL_44b750b116f749898cedbd90753cfad7",
       "value": 5
      }
     },
     "05b9e3a8096e474396d8421f701a7f3b": {
      "buffers": [
       {
        "data": "AAAAAAEAAAACAAAAAwAAAAQAAAAFAAAABgAAAAcAAAA=",
        "encoding": "base64",
        "path": [
         "_data",
         0,
         "x",
         "value"
        ]
       },
       {
        "data": "AAAAAAEAAAACAAAAAwAAAAQAAAAFAAAABgAAAAcAAAA=",
        "encoding": "base64",
        "path": [
         "_data",
         1,
         "x",
         "value"
        ]
       },
       {
        "data": "AAAAAAEAAAACAAAAAwAAAAQAAAAFAAAABgAAAAcAAAA=",
        "encoding": "base64",
        "path": [
         "_data",
         2,
         "x",
         "value"
        ]
       }
      ],
      "model_module": "plotlywidget",
      "model_module_version": "^0.11.0",
      "model_name": "FigureModel",
      "state": {
       "_config": {
        "plotlyServerURL": "https://plot.ly"
       },
       "_data": [
        {
         "type": "scatter",
         "uid": "f33e971b-d739-40f0-83d3-dc66a6b0d36c",
         "x": {
          "dtype": "int32",
          "shape": [
           8
          ]
         },
         "y": [
          20.96598515849485,
          16.079962319178033,
          11.889736083015691,
          9.780018610798596,
          8.226923867139623,
          7.356944179259375,
          7.268476857339998,
          7.297809486986749
         ]
        },
        {
         "type": "scatter",
         "uid": "f0e6438f-bb03-4d4f-a91f-8f5fc014ba8b",
         "x": {
          "dtype": "int32",
          "shape": [
           8
          ]
         },
         "y": [
          14.145693828068348,
          11.78885053485719,
          9.341009217760698,
          8.010144057217003,
          7.1444555223439945,
          6.498740293548694,
          6.611432092105573,
          6.79564543586131
         ]
        },
        {
         "type": "scatter",
         "uid": "86883cb5-0aaa-43e7-9209-89d25a72561d",
         "x": {
          "dtype": "int32",
          "shape": [
           8
          ]
         },
         "y": [
          7.676694695425487,
          7.593503380891914,
          6.77652771194649,
          6.249447628012408,
          5.915252603456712,
          5.559920717103622,
          5.658194708009528,
          6.202634513295801
         ]
        }
       ],
       "_js2py_relayout": {},
       "_js2py_restyle": {},
       "_js2py_update": {},
       "_last_layout_edit_id": 3,
       "_last_trace_edit_id": 3,
       "_layout": {
        "template": {}
       },
       "_py2js_animate": {},
       "_py2js_deleteTraces": {},
       "_py2js_moveTraces": {},
       "_py2js_removeLayoutProps": {},
       "_py2js_removeTraceProps": {},
       "_py2js_restyle": {},
       "_py2js_update": {},
       "_view_count": 0
      }
     },
     "069beb35bf50434aa8e5ff558fc7f151": {
      "model_module": "@jupyter-widgets/controls",
      "model_module_version": "1.4.0",
      "model_name": "BoundedFloatTextModel",
      "state": {
       "layout": "IPY_MODEL_ba75a788aa73467abbba4f5653ec38b2",
       "step": 1,
       "style": "IPY_MODEL_7676406844c74ea991cffbe09372625a",
       "value": 5
      }
     },
     "075161455dc246a9baedf166fc8ae79c": {
      "model_module": "@jupyter-widgets/controls",
      "model_module_version": "1.4.0",
      "model_name": "VBoxModel",
      "state": {
       "children": [
        "IPY_MODEL_99cf65f6315f449996232dee6f535750",
        "IPY_MODEL_3bdb3dd612784112ae8a2fa6c63b8674"
       ],
       "layout": "IPY_MODEL_0fa1297ae9f84a0681135958307f02af"
      }
     },
     "076211dd8b1b420485d75a66df1c70c8": {
      "model_module": "@jupyter-widgets/base",
      "model_module_version": "1.1.0",
      "model_name": "LayoutModel",
      "state": {}
     },
     "079d429dadf14fc98b11280c7f7d9b0f": {
      "model_module": "@jupyter-widgets/base",
      "model_module_version": "1.1.0",
      "model_name": "LayoutModel",
      "state": {}
     },
     "079f98c775574f9c82d11a95529a31fb": {
      "model_module": "@jupyter-widgets/base",
      "model_module_version": "1.1.0",
      "model_name": "LayoutModel",
      "state": {}
     },
     "07d9c4f3e5ae4e52975d3e1ebe58574c": {
      "model_module": "plotlywidget",
      "model_module_version": "^0.11.0",
      "model_name": "FigureModel",
      "state": {
       "_config": {
        "plotlyServerURL": "https://plot.ly"
       },
       "_js2py_pointsCallback": {},
       "_js2py_restyle": {},
       "_js2py_update": {},
       "_last_layout_edit_id": 2,
       "_layout": {
        "autosize": true,
        "template": {},
        "title": {
         "text": "Recommended Discount Rate for Risk Probablity=5.0%"
        }
       },
       "_py2js_addTraces": {},
       "_py2js_animate": {},
       "_py2js_deleteTraces": {},
       "_py2js_moveTraces": {},
       "_py2js_removeLayoutProps": {},
       "_py2js_removeTraceProps": {},
       "_py2js_restyle": {},
       "_py2js_update": {},
       "_view_count": 0
      }
     },
     "088e620eba4b4d988e075540abe0ad1d": {
      "model_module": "@jupyter-widgets/controls",
      "model_module_version": "1.4.0",
      "model_name": "DescriptionStyleModel",
      "state": {
       "description_width": ""
      }
     },
     "08be0203199d4440a0fb975b886390a2": {
      "model_module": "@jupyter-widgets/controls",
      "model_module_version": "1.4.0",
      "model_name": "VBoxModel",
      "state": {
       "children": [
        "IPY_MODEL_c56c6e09ed254c85a46c2e9030182abf",
        "IPY_MODEL_67d7f05a033e406791674ef766468c08"
       ],
       "layout": "IPY_MODEL_a8d7db5aa25f40959e6244d0e2c94b74"
      }
     },
     "0a5ab64f277d472faab039e59a6d3225": {
      "model_module": "@jupyter-widgets/controls",
      "model_module_version": "1.4.0",
      "model_name": "DescriptionStyleModel",
      "state": {
       "description_width": ""
      }
     },
     "0ae13412bc634240bd9bb149795f8908": {
      "model_module": "@jupyter-widgets/base",
      "model_module_version": "1.1.0",
      "model_name": "LayoutModel",
      "state": {}
     },
     "0b567f2dea524d21ab07948f547d0216": {
      "model_module": "@jupyter-widgets/controls",
      "model_module_version": "1.4.0",
      "model_name": "LabelModel",
      "state": {
       "layout": "IPY_MODEL_bf3b2e462595456f91b64ec7fc99b5d3",
       "style": "IPY_MODEL_486233c6a87e4842975fb1ad64263eb5",
       "value": "Target Risk(%):"
      }
     },
     "0bfa7235695f432dbc7efd3e9bf3e9bd": {
      "model_module": "@jupyter-widgets/controls",
      "model_module_version": "1.4.0",
      "model_name": "HTMLModel",
      "state": {
       "layout": "IPY_MODEL_e014bfc7338243ca83c7d54a5a9806a0",
       "style": "IPY_MODEL_21d7d4bc7be649629c34953f1cb4b79e"
      }
     },
     "0c0858eb8ca0469683ce0ce07b85d242": {
      "model_module": "@jupyter-widgets/controls",
      "model_module_version": "1.4.0",
      "model_name": "DescriptionStyleModel",
      "state": {
       "description_width": ""
      }
     },
     "0c5657ade2a04aafa4ca369d965370de": {
      "model_module": "@jupyter-widgets/controls",
      "model_module_version": "1.4.0",
      "model_name": "DescriptionStyleModel",
      "state": {
       "description_width": ""
      }
     },
     "0d053f814c2a4f27876d63984317696c": {
      "model_module": "@jupyter-widgets/controls",
      "model_module_version": "1.4.0",
      "model_name": "DescriptionStyleModel",
      "state": {
       "description_width": ""
      }
     },
     "0d872db599a9482986e60424aab99a5f": {
      "model_module": "@jupyter-widgets/controls",
      "model_module_version": "1.4.0",
      "model_name": "DescriptionStyleModel",
      "state": {
       "description_width": ""
      }
     },
     "0e23328b9cd74c27a056fb0a524596d0": {
      "model_module": "@jupyter-widgets/base",
      "model_module_version": "1.1.0",
      "model_name": "LayoutModel",
      "state": {}
     },
     "0f5dea7c2d0f4fbdae3a09993ab26536": {
      "model_module": "@jupyter-widgets/controls",
      "model_module_version": "1.4.0",
      "model_name": "ButtonStyleModel",
      "state": {}
     },
     "0f6ddf659d454efda4af7720fe1abdbd": {
      "model_module": "@jupyter-widgets/controls",
      "model_module_version": "1.4.0",
      "model_name": "ButtonStyleModel",
      "state": {}
     },
     "0fa1297ae9f84a0681135958307f02af": {
      "model_module": "@jupyter-widgets/base",
      "model_module_version": "1.1.0",
      "model_name": "LayoutModel",
      "state": {}
     },
     "100b0532242841e7b035fe2557a3bd75": {
      "model_module": "@jupyter-widgets/controls",
      "model_module_version": "1.4.0",
      "model_name": "LabelModel",
      "state": {
       "layout": "IPY_MODEL_7abbb4903d934ab88d51bed7e7b06820",
       "style": "IPY_MODEL_6c066769f4ff4d02b74b21cd095b1fb3",
       "value": "Target Risk (%):"
      }
     },
     "108cf915bfb245168d947487d75a6a5b": {
      "model_module": "@jupyter-widgets/controls",
      "model_module_version": "1.4.0",
      "model_name": "HBoxModel",
      "state": {
       "children": [
        "IPY_MODEL_63a7f9ba980e499da39038cd81ee59d3",
        "IPY_MODEL_d2c81b0acdaf4a86b8bdd679202f23be",
        "IPY_MODEL_4eee153568d54a7588cc71279007dd65",
        "IPY_MODEL_9617cddb0fce4c26a92d2472f9bf65c5"
       ],
       "layout": "IPY_MODEL_794d8804cd1a4e29be679c5b025d495c"
      }
     },
     "117e3665d0c34757881a8faf42a8d576": {
      "model_module": "@jupyter-widgets/controls",
      "model_module_version": "1.4.0",
      "model_name": "DescriptionStyleModel",
      "state": {
       "description_width": ""
      }
     },
     "11dbac8f67e54ccd82297b57f28b56a1": {
      "model_module": "@jupyter-widgets/base",
      "model_module_version": "1.1.0",
      "model_name": "LayoutModel",
      "state": {}
     },
     "13a1cc1b40124212ae76c3b42ff31a73": {
      "model_module": "@jupyter-widgets/base",
      "model_module_version": "1.1.0",
      "model_name": "LayoutModel",
      "state": {}
     },
     "1403976fc123487787a44ad2371ff65d": {
      "model_module": "@jupyter-widgets/base",
      "model_module_version": "1.1.0",
      "model_name": "LayoutModel",
      "state": {}
     },
     "1424125c156545f5a35da071a98cc257": {
      "model_module": "@jupyter-widgets/controls",
      "model_module_version": "1.4.0",
      "model_name": "HBoxModel",
      "state": {
       "children": [
        "IPY_MODEL_d5caa0c3e59a4168b6b4fd88054dc1bb",
        "IPY_MODEL_fffdbe88450d4bc5a188948070236e75",
        "IPY_MODEL_ed4017d744184f93948310a7afa09ebb",
        "IPY_MODEL_a47a51409b0845a8b073a3ea984d1355"
       ],
       "layout": "IPY_MODEL_f7d946f67bdc41c5926feac0ce79b6dd"
      }
     },
     "14e2ea4b5b664ad2952c45c6dd51249c": {
      "model_module": "@jupyter-widgets/base",
      "model_module_version": "1.1.0",
      "model_name": "LayoutModel",
      "state": {}
     },
     "15709be73a864d4882d28bd9c973ab34": {
      "model_module": "@jupyter-widgets/base",
      "model_module_version": "1.1.0",
      "model_name": "LayoutModel",
      "state": {}
     },
     "164f6017241944e8b02a08d3a8666d8e": {
      "buffers": [
       {
        "data": "AAAAAAEAAAACAAAAAwAAAAQAAAAFAAAABgAAAAcAAAA=",
        "encoding": "base64",
        "path": [
         "_data",
         0,
         "x",
         "value"
        ]
       }
      ],
      "model_module": "plotlywidget",
      "model_module_version": "^0.11.0",
      "model_name": "FigureModel",
      "state": {
       "_config": {
        "plotlyServerURL": "https://plot.ly"
       },
       "_data": [
        {
         "type": "scatter",
         "uid": "897d105a-d3c5-4c9c-ac3c-61201bac72bd",
         "x": {
          "dtype": "int32",
          "shape": [
           8
          ]
         },
         "y": [
          29.566134831509842,
          21.858849817879907,
          14.970823543391916,
          11.746914214435385,
          9.740796316064856,
          8.47407634555655,
          8.000728502965348,
          8.004525444977116
         ]
        }
       ],
       "_js2py_restyle": {},
       "_js2py_update": {},
       "_last_layout_edit_id": 14,
       "_last_trace_edit_id": 13,
       "_layout": {
        "autosize": true,
        "template": {}
       },
       "_py2js_animate": {},
       "_py2js_moveTraces": {},
       "_py2js_removeLayoutProps": {},
       "_py2js_removeTraceProps": {},
       "_py2js_restyle": {},
       "_py2js_update": {},
       "_view_count": 0
      }
     },
     "17332132590641a8856e108913fc41f4": {
      "model_module": "@jupyter-widgets/base",
      "model_module_version": "1.1.0",
      "model_name": "LayoutModel",
      "state": {}
     },
     "174178a2f93f49aaa7d6d4f1293dfb2c": {
      "model_module": "@jupyter-widgets/base",
      "model_module_version": "1.1.0",
      "model_name": "LayoutModel",
      "state": {}
     },
     "175c80d66add4fa0b6b953dc842d2813": {
      "model_module": "@jupyter-widgets/controls",
      "model_module_version": "1.4.0",
      "model_name": "HTMLModel",
      "state": {
       "layout": "IPY_MODEL_8a161caab0674241ad2302c590f9e47c",
       "style": "IPY_MODEL_5c4129f851604a6ca47f3908b081284b"
      }
     },
     "184804a4c7944e368074f9fce85fed98": {
      "model_module": "@jupyter-widgets/controls",
      "model_module_version": "1.4.0",
      "model_name": "DescriptionStyleModel",
      "state": {
       "description_width": ""
      }
     },
     "1977a123017148de988b1403cd849ea2": {
      "model_module": "@jupyter-widgets/controls",
      "model_module_version": "1.4.0",
      "model_name": "DescriptionStyleModel",
      "state": {
       "description_width": ""
      }
     },
     "19b822b46f3747759aab9d98c22dcb9c": {
      "model_module": "@jupyter-widgets/controls",
      "model_module_version": "1.4.0",
      "model_name": "ValidModel",
      "state": {
       "layout": "IPY_MODEL_27f5e2f3c9aa44e786b090781c737cb5",
       "style": "IPY_MODEL_fe567d787d924de8b29fa3bd2fcbb6f6",
       "value": true
      }
     },
     "1aa2c17ebdde47918599423f8851ade3": {
      "model_module": "@jupyter-widgets/base",
      "model_module_version": "1.1.0",
      "model_name": "LayoutModel",
      "state": {}
     },
     "1b1b0cdb1039476fb855e60236447fb0": {
      "model_module": "@jupyter-widgets/controls",
      "model_module_version": "1.4.0",
      "model_name": "ButtonModel",
      "state": {
       "description": "Submit",
       "layout": "IPY_MODEL_3853e17514564291a274523e1f0b6b59",
       "style": "IPY_MODEL_6eba16a46b414b00aa6c8740966be53e"
      }
     },
     "1c2512c58faa47b694eaafa55ef3412e": {
      "model_module": "@jupyter-widgets/base",
      "model_module_version": "1.1.0",
      "model_name": "LayoutModel",
      "state": {}
     },
     "1c41e5e069ed4b608832c19194a9730c": {
      "model_module": "@jupyter-widgets/controls",
      "model_module_version": "1.4.0",
      "model_name": "BoundedFloatTextModel",
      "state": {
       "layout": "IPY_MODEL_bbc3afbf2e39479db652c04075ef57a9",
       "step": 1,
       "style": "IPY_MODEL_1977a123017148de988b1403cd849ea2",
       "value": 5
      }
     },
     "1c7b34de0b3340659706d93a09253c35": {
      "model_module": "@jupyter-widgets/base",
      "model_module_version": "1.1.0",
      "model_name": "LayoutModel",
      "state": {}
     },
     "1e061b88654941a6ae69e855b879ea67": {
      "model_module": "@jupyter-widgets/base",
      "model_module_version": "1.1.0",
      "model_name": "LayoutModel",
      "state": {}
     },
     "1e98335f4bca49e596493cd6ffc670af": {
      "model_module": "@jupyter-widgets/base",
      "model_module_version": "1.1.0",
      "model_name": "LayoutModel",
      "state": {}
     },
     "1fbee1914f8048a3a7f85cead35fdba5": {
      "model_module": "@jupyter-widgets/controls",
      "model_module_version": "1.4.0",
      "model_name": "HTMLModel",
      "state": {
       "layout": "IPY_MODEL_48250906c8fe49ce9e64941f0f054d27",
       "style": "IPY_MODEL_77665a9de3524a4f8287ecd7ebf25736"
      }
     },
     "1ff882e11f9d4eab9653ab584ee0eef2": {
      "model_module": "@jupyter-widgets/base",
      "model_module_version": "1.1.0",
      "model_name": "LayoutModel",
      "state": {}
     },
     "205f3ef1415944038f5ca4b86c34e4b0": {
      "model_module": "@jupyter-widgets/controls",
      "model_module_version": "1.4.0",
      "model_name": "HBoxModel",
      "state": {
       "children": [
        "IPY_MODEL_4e5083353d7540bd8db334d1f911a634",
        "IPY_MODEL_606691392c78445ebcf10bc0c2321030",
        "IPY_MODEL_951b89a4d04c4a0dbc352c5e89e50c8b",
        "IPY_MODEL_3c086ce3d34d47a0b35374f69a772200"
       ],
       "layout": "IPY_MODEL_ea4d07791ce548d1a4bc86d98f0c99fc"
      }
     },
     "21405fb39eb140e5b11def29fa80633b": {
      "model_module": "@jupyter-widgets/controls",
      "model_module_version": "1.4.0",
      "model_name": "ValidModel",
      "state": {
       "layout": "IPY_MODEL_4613aefdb7ac47ab8915f80709d03e18",
       "style": "IPY_MODEL_7d48fba23e394122b8a3302742c40341",
       "value": true
      }
     },
     "219516280e7146f0be07cacdffcc0eca": {
      "model_module": "@jupyter-widgets/controls",
      "model_module_version": "1.4.0",
      "model_name": "DescriptionStyleModel",
      "state": {
       "description_width": ""
      }
     },
     "21d7d4bc7be649629c34953f1cb4b79e": {
      "model_module": "@jupyter-widgets/controls",
      "model_module_version": "1.4.0",
      "model_name": "DescriptionStyleModel",
      "state": {
       "description_width": ""
      }
     },
     "227f88b0f2e440cdada4ccab98a4b6d7": {
      "model_module": "@jupyter-widgets/controls",
      "model_module_version": "1.4.0",
      "model_name": "BoundedFloatTextModel",
      "state": {
       "layout": "IPY_MODEL_c0108b0e803c4fe89dab60b6e07b902b",
       "step": 1,
       "style": "IPY_MODEL_dd238a85f0184e40b1200d9b1c9f4ad2",
       "value": 5
      }
     },
     "22f86d0f17b548c788bda3fbf0e502b8": {
      "model_module": "@jupyter-widgets/base",
      "model_module_version": "1.1.0",
      "model_name": "LayoutModel",
      "state": {}
     },
     "230580c1219d4d9b9d0868a0b4991118": {
      "model_module": "@jupyter-widgets/controls",
      "model_module_version": "1.4.0",
      "model_name": "DescriptionStyleModel",
      "state": {
       "description_width": ""
      }
     },
     "23065f8ef04c47d4a8e68f2297303db8": {
      "model_module": "@jupyter-widgets/base",
      "model_module_version": "1.1.0",
      "model_name": "LayoutModel",
      "state": {}
     },
     "23437c3c32c64919aa23ccf093553435": {
      "model_module": "@jupyter-widgets/controls",
      "model_module_version": "1.4.0",
      "model_name": "ButtonStyleModel",
      "state": {}
     },
     "24ec6a6f04594f80a348974f214cfaa0": {
      "model_module": "@jupyter-widgets/controls",
      "model_module_version": "1.4.0",
      "model_name": "ValidModel",
      "state": {
       "layout": "IPY_MODEL_741e41a633704c0b981d395b22ef2deb",
       "style": "IPY_MODEL_2a744fa6fa754879babf7fb0b25c39d1",
       "value": true
      }
     },
     "24ee9ebde26f4d158075ed8f8660c289": {
      "model_module": "plotlywidget",
      "model_module_version": "^0.11.0",
      "model_name": "FigureModel",
      "state": {
       "_config": {
        "plotlyServerURL": "https://plot.ly"
       },
       "_js2py_pointsCallback": {},
       "_js2py_restyle": {},
       "_js2py_update": {},
       "_last_layout_edit_id": 1,
       "_layout": {
        "autosize": true,
        "template": {}
       },
       "_py2js_addTraces": {},
       "_py2js_animate": {},
       "_py2js_deleteTraces": {},
       "_py2js_moveTraces": {},
       "_py2js_removeLayoutProps": {},
       "_py2js_removeTraceProps": {},
       "_py2js_restyle": {},
       "_py2js_update": {},
       "_view_count": 0
      }
     },
     "268831bcc685444588d142f8336ca688": {
      "model_module": "plotlywidget",
      "model_module_version": "^0.11.0",
      "model_name": "FigureModel",
      "state": {
       "_config": {
        "plotlyServerURL": "https://plot.ly"
       },
       "_js2py_layoutDelta": {},
       "_js2py_pointsCallback": {},
       "_js2py_relayout": {},
       "_js2py_restyle": {},
       "_js2py_traceDeltas": {},
       "_js2py_update": {},
       "_layout": {
        "template": {}
       },
       "_py2js_addTraces": {},
       "_py2js_animate": {},
       "_py2js_deleteTraces": {},
       "_py2js_moveTraces": {},
       "_py2js_removeLayoutProps": {},
       "_py2js_removeTraceProps": {},
       "_py2js_restyle": {},
       "_py2js_update": {},
       "_view_count": 0
      }
     },
     "27303e781aaf48dfb010cabc4181a367": {
      "model_module": "@jupyter-widgets/base",
      "model_module_version": "1.1.0",
      "model_name": "LayoutModel",
      "state": {}
     },
     "27f5e2f3c9aa44e786b090781c737cb5": {
      "model_module": "@jupyter-widgets/base",
      "model_module_version": "1.1.0",
      "model_name": "LayoutModel",
      "state": {}
     },
     "2833ba0cb19948cba94b5e4f356a416e": {
      "model_module": "@jupyter-widgets/base",
      "model_module_version": "1.1.0",
      "model_name": "LayoutModel",
      "state": {}
     },
     "292bd4e2f4334f41884c52d363d7a826": {
      "model_module": "@jupyter-widgets/base",
      "model_module_version": "1.1.0",
      "model_name": "LayoutModel",
      "state": {}
     },
     "299e7899fa2442028f78eef983f7fa18": {
      "model_module": "@jupyter-widgets/controls",
      "model_module_version": "1.4.0",
      "model_name": "DescriptionStyleModel",
      "state": {
       "description_width": ""
      }
     },
     "2a1d22762f4d45229be2b768befe1663": {
      "model_module": "@jupyter-widgets/base",
      "model_module_version": "1.1.0",
      "model_name": "LayoutModel",
      "state": {}
     },
     "2a4a2cddb0704e5a94b90d81ef601e1a": {
      "model_module": "@jupyter-widgets/controls",
      "model_module_version": "1.4.0",
      "model_name": "VBoxModel",
      "state": {
       "children": [
        "IPY_MODEL_7222d2cd755442ddb4228fd07b2a9798",
        "IPY_MODEL_597c7fe19a5d412ab9013ca3e5dda055"
       ],
       "layout": "IPY_MODEL_de32ed3ba7054727b649277f16a010bc"
      }
     },
     "2a744fa6fa754879babf7fb0b25c39d1": {
      "model_module": "@jupyter-widgets/controls",
      "model_module_version": "1.4.0",
      "model_name": "DescriptionStyleModel",
      "state": {
       "description_width": ""
      }
     },
     "2c2947dcfe3e4ffcb05a2797d92b6533": {
      "model_module": "@jupyter-widgets/controls",
      "model_module_version": "1.4.0",
      "model_name": "ButtonStyleModel",
      "state": {}
     },
     "2cf33801e75b4005b7ca982b2dad380d": {
      "model_module": "@jupyter-widgets/base",
      "model_module_version": "1.1.0",
      "model_name": "LayoutModel",
      "state": {}
     },
     "2d2bb58bbc054862baf03f213b549ae2": {
      "model_module": "@jupyter-widgets/controls",
      "model_module_version": "1.4.0",
      "model_name": "DescriptionStyleModel",
      "state": {
       "description_width": ""
      }
     },
     "2fe2a3672cae48cea9f723a023a344e0": {
      "model_module": "@jupyter-widgets/controls",
      "model_module_version": "1.4.0",
      "model_name": "BoundedFloatTextModel",
      "state": {
       "description": "Probability of Risk (%):",
       "layout": "IPY_MODEL_d6bf63d47ccb4236b9dd2df5f58417e8",
       "step": 1,
       "style": "IPY_MODEL_943fed81136a4178a2decda88a1f0e2b",
       "value": 5
      }
     },
     "2ff164a530f84059937b1a390461c142": {
      "model_module": "@jupyter-widgets/base",
      "model_module_version": "1.1.0",
      "model_name": "LayoutModel",
      "state": {}
     },
     "3017de91bd6f4a70be5f0eef94496eed": {
      "model_module": "@jupyter-widgets/controls",
      "model_module_version": "1.4.0",
      "model_name": "VBoxModel",
      "state": {
       "children": [
        "IPY_MODEL_cad0c2f882814d8b865a6c412f9f930f",
        "IPY_MODEL_164f6017241944e8b02a08d3a8666d8e"
       ],
       "layout": "IPY_MODEL_c8e15a64820742689422d432eb519090"
      }
     },
     "30ed0c50d2b3420383fb16343b0e4284": {
      "model_module": "@jupyter-widgets/controls",
      "model_module_version": "1.4.0",
      "model_name": "BoundedFloatTextModel",
      "state": {
       "layout": "IPY_MODEL_93e76e81c7d54c3ea9cdf6f37af8a766",
       "step": 1,
       "style": "IPY_MODEL_46010dccb30c4aecac64b469f8c5f9fa",
       "value": 5
      }
     },
     "30f789f10ba94bbab11a3c9cfad01dfb": {
      "model_module": "@jupyter-widgets/controls",
      "model_module_version": "1.4.0",
      "model_name": "ValidModel",
      "state": {
       "layout": "IPY_MODEL_3478fa00d06e43c7bd0d5e9764ef873f",
       "style": "IPY_MODEL_ef7f4d9225b040248882c8d7175f0ed4",
       "value": true
      }
     },
     "3106dcbe6f274c0887a8a6fc2990d4e0": {
      "model_module": "@jupyter-widgets/base",
      "model_module_version": "1.1.0",
      "model_name": "LayoutModel",
      "state": {}
     },
     "31470644f7e743d78ec236bb7768e9b0": {
      "model_module": "@jupyter-widgets/controls",
      "model_module_version": "1.4.0",
      "model_name": "HTMLModel",
      "state": {
       "layout": "IPY_MODEL_3106dcbe6f274c0887a8a6fc2990d4e0",
       "style": "IPY_MODEL_d6b04271d6e04ad49c4802f193200097"
      }
     },
     "3309b423ff564fdc97322355953bb6ca": {
      "model_module": "@jupyter-widgets/controls",
      "model_module_version": "1.4.0",
      "model_name": "HTMLModel",
      "state": {
       "layout": "IPY_MODEL_65d9780ea32144ac994b0bada60daa6b",
       "style": "IPY_MODEL_9e7e68c5bf434a0dbc7dc4b0b7ede084"
      }
     },
     "33b50b3843414a6b92e5060bdeb625d7": {
      "model_module": "plotlywidget",
      "model_module_version": "^0.11.0",
      "model_name": "FigureModel",
      "state": {
       "_config": {
        "plotlyServerURL": "https://plot.ly"
       },
       "_data": [
        {
         "type": "scatter",
         "uid": "41ae9bce-c903-4dfe-90f4-2630ffd51f58",
         "x": [
          10,
          20,
          50,
          100,
          200,
          500,
          1000,
          1500
         ],
         "y": [
          20.96598515849485,
          16.079962319178033,
          11.889736083015691,
          9.780018610798596,
          8.226923867139623,
          7.356944179259375,
          7.268476857339998,
          7.297809486986749
         ]
        }
       ],
       "_js2py_pointsCallback": {},
       "_js2py_restyle": {},
       "_js2py_update": {},
       "_last_layout_edit_id": 3,
       "_last_trace_edit_id": 1,
       "_layout": {
        "autosize": true,
        "template": {},
        "title": {
         "text": "Plot Title"
        }
       },
       "_py2js_animate": {},
       "_py2js_deleteTraces": {},
       "_py2js_moveTraces": {},
       "_py2js_removeLayoutProps": {},
       "_py2js_removeTraceProps": {},
       "_py2js_restyle": {},
       "_py2js_update": {},
       "_view_count": 0
      }
     },
     "3478fa00d06e43c7bd0d5e9764ef873f": {
      "model_module": "@jupyter-widgets/base",
      "model_module_version": "1.1.0",
      "model_name": "LayoutModel",
      "state": {}
     },
     "3579bb01e91c4022ba07afb7e55e1a1c": {
      "model_module": "@jupyter-widgets/base",
      "model_module_version": "1.1.0",
      "model_name": "LayoutModel",
      "state": {}
     },
     "359ac5a8065a49698a3fb3daa7794c01": {
      "model_module": "@jupyter-widgets/base",
      "model_module_version": "1.1.0",
      "model_name": "LayoutModel",
      "state": {}
     },
     "35b3f24049c74101bb72235be41df9eb": {
      "model_module": "@jupyter-widgets/controls",
      "model_module_version": "1.4.0",
      "model_name": "DescriptionStyleModel",
      "state": {
       "description_width": ""
      }
     },
     "3605e1cb17ee497b9ebd014501eb6c0d": {
      "model_module": "@jupyter-widgets/controls",
      "model_module_version": "1.4.0",
      "model_name": "ButtonStyleModel",
      "state": {}
     },
     "367ab2a950eb4ef5abbbf7d38e4ac189": {
      "model_module": "@jupyter-widgets/controls",
      "model_module_version": "1.4.0",
      "model_name": "ValidModel",
      "state": {
       "layout": "IPY_MODEL_a78486a94e8a4e6baa4ab30fb525cb5d",
       "style": "IPY_MODEL_117e3665d0c34757881a8faf42a8d576",
       "value": true
      }
     },
     "38366ac48a384eccac942f9cfaab7974": {
      "model_module": "@jupyter-widgets/controls",
      "model_module_version": "1.4.0",
      "model_name": "HBoxModel",
      "state": {
       "children": [
        "IPY_MODEL_0b567f2dea524d21ab07948f547d0216",
        "IPY_MODEL_55a1ad611209428bae5c1299790d1ba5",
        "IPY_MODEL_dc95a5b501cf42d0880d507e3e546627",
        "IPY_MODEL_30f789f10ba94bbab11a3c9cfad01dfb"
       ],
       "layout": "IPY_MODEL_3579bb01e91c4022ba07afb7e55e1a1c"
      }
     },
     "384b4d2f94d744749069877c4bf5d95b": {
      "model_module": "@jupyter-widgets/base",
      "model_module_version": "1.1.0",
      "model_name": "LayoutModel",
      "state": {}
     },
     "3853e17514564291a274523e1f0b6b59": {
      "model_module": "@jupyter-widgets/base",
      "model_module_version": "1.1.0",
      "model_name": "LayoutModel",
      "state": {}
     },
     "393af38a1400455682022e103e665dfa": {
      "model_module": "@jupyter-widgets/controls",
      "model_module_version": "1.4.0",
      "model_name": "DescriptionStyleModel",
      "state": {
       "description_width": ""
      }
     },
     "397876512f734a10a3066f39fed3266e": {
      "model_module": "@jupyter-widgets/controls",
      "model_module_version": "1.4.0",
      "model_name": "ButtonModel",
      "state": {
       "description": "Submit",
       "layout": "IPY_MODEL_c9eb56c9082843d3a2a2a0985829ff44",
       "style": "IPY_MODEL_f8ea34e6ea5f4be48b851a363a60d761"
      }
     },
     "39dd78c9cdee4ef6a015c344e617c3d3": {
      "model_module": "@jupyter-widgets/base",
      "model_module_version": "1.1.0",
      "model_name": "LayoutModel",
      "state": {}
     },
     "39df5991f2be493c9821ce624d4478ab": {
      "model_module": "@jupyter-widgets/controls",
      "model_module_version": "1.4.0",
      "model_name": "DescriptionStyleModel",
      "state": {
       "description_width": ""
      }
     },
     "3a7f528e7f8349bcae2ce3822fcd478f": {
      "model_module": "@jupyter-widgets/controls",
      "model_module_version": "1.4.0",
      "model_name": "DescriptionStyleModel",
      "state": {
       "description_width": ""
      }
     },
     "3a9a8be361454c218283d9fd63e0ab21": {
      "model_module": "@jupyter-widgets/controls",
      "model_module_version": "1.4.0",
      "model_name": "BoundedFloatTextModel",
      "state": {
       "layout": "IPY_MODEL_50a260d674ba4094a7cae08510bfae17",
       "step": 1,
       "style": "IPY_MODEL_be6391f2e3b3437e9965f953aa3795ce",
       "value": 5
      }
     },
     "3ad2c55f77494b1aa7bc9dc23d629ded": {
      "model_module": "@jupyter-widgets/controls",
      "model_module_version": "1.4.0",
      "model_name": "ValidModel",
      "state": {
       "layout": "IPY_MODEL_b43b6a9a7ff84be1a6b29277d2f43d72",
       "style": "IPY_MODEL_0a5ab64f277d472faab039e59a6d3225",
       "value": true
      }
     },
     "3bdb3dd612784112ae8a2fa6c63b8674": {
      "model_module": "plotlywidget",
      "model_module_version": "^0.11.0",
      "model_name": "FigureModel",
      "state": {
       "_config": {
        "plotlyServerURL": "https://plot.ly"
       },
       "_data": [
        {
         "type": "scatter",
         "uid": "48740aac-59d0-45e4-a082-5b4513b76f96",
         "x": [
          10,
          20,
          50,
          100,
          200,
          500,
          1000,
          1500
         ],
         "y": [
          34.55801882869071,
          25.92300745484242,
          17.866388086632632,
          13.14534513832657,
          10.839320137222487,
          9.035427850966387,
          8.484918419297347,
          8.407245279079499
         ]
        }
       ],
       "_js2py_restyle": {},
       "_js2py_update": {},
       "_last_layout_edit_id": 22,
       "_last_trace_edit_id": 13,
       "_layout": {
        "autosize": true,
        "template": {},
        "title": {
         "text": "Recommended Discount Rate for Risk Probablity=1.0%"
        },
        "xaxis": {
         "title": {
          "text": "Wells Package Size"
         }
        },
        "yaxis": {
         "title": {
          "text": "Discount Rate (%)"
         }
        }
       },
       "_py2js_animate": {},
       "_py2js_moveTraces": {},
       "_py2js_removeLayoutProps": {},
       "_py2js_removeTraceProps": {},
       "_py2js_restyle": {},
       "_py2js_update": {},
       "_view_count": 1
      }
     },
     "3bdd1ec71bcf4cb1855798b34fdd57e7": {
      "model_module": "@jupyter-widgets/base",
      "model_module_version": "1.1.0",
      "model_name": "LayoutModel",
      "state": {}
     },
     "3c086ce3d34d47a0b35374f69a772200": {
      "model_module": "@jupyter-widgets/controls",
      "model_module_version": "1.4.0",
      "model_name": "HTMLModel",
      "state": {
       "layout": "IPY_MODEL_d85572c35d81410095349e9cdfad7d64",
       "style": "IPY_MODEL_4b43587c7cfc45bca9cf3f8e3f5d337c"
      }
     },
     "3c27012018a541cf845f4611e0d5f7a6": {
      "model_module": "@jupyter-widgets/controls",
      "model_module_version": "1.4.0",
      "model_name": "DescriptionStyleModel",
      "state": {
       "description_width": ""
      }
     },
     "3ccd4ca950f64dba8ee0a81a82685463": {
      "model_module": "@jupyter-widgets/base",
      "model_module_version": "1.1.0",
      "model_name": "LayoutModel",
      "state": {}
     },
     "3d9e16ba0a1340299e69cb9608e50574": {
      "model_module": "@jupyter-widgets/controls",
      "model_module_version": "1.4.0",
      "model_name": "ButtonModel",
      "state": {
       "description": "Submit",
       "layout": "IPY_MODEL_fe71ec0c7f2c47279bbd1fca3d592ea6",
       "style": "IPY_MODEL_2c2947dcfe3e4ffcb05a2797d92b6533"
      }
     },
     "3da20d70a7a7402f86df5de735b2efa3": {
      "model_module": "@jupyter-widgets/controls",
      "model_module_version": "1.4.0",
      "model_name": "HBoxModel",
      "state": {
       "children": [
        "IPY_MODEL_a23a66f44a7c4e0b8295d07a47f339ec",
        "IPY_MODEL_b47a978932ac44278921a30ccc956f6f",
        "IPY_MODEL_1b1b0cdb1039476fb855e60236447fb0",
        "IPY_MODEL_9030c3d1827747e8b20145d7716c0222"
       ],
       "layout": "IPY_MODEL_2a1d22762f4d45229be2b768befe1663"
      }
     },
     "3ee7987969cd490d9eb8d85542c7aed1": {
      "model_module": "@jupyter-widgets/base",
      "model_module_version": "1.1.0",
      "model_name": "LayoutModel",
      "state": {}
     },
     "3f0b94887cc7450d840105bc2d04e799": {
      "model_module": "plotlywidget",
      "model_module_version": "^0.11.0",
      "model_name": "FigureModel",
      "state": {
       "_config": {
        "plotlyServerURL": "https://plot.ly"
       },
       "_js2py_layoutDelta": {},
       "_js2py_pointsCallback": {},
       "_js2py_relayout": {},
       "_js2py_restyle": {},
       "_js2py_traceDeltas": {},
       "_js2py_update": {},
       "_layout": {
        "template": {}
       },
       "_py2js_addTraces": {},
       "_py2js_animate": {},
       "_py2js_deleteTraces": {},
       "_py2js_moveTraces": {},
       "_py2js_removeLayoutProps": {},
       "_py2js_removeTraceProps": {},
       "_py2js_restyle": {},
       "_py2js_update": {},
       "_view_count": 0
      }
     },
     "3f572e649f1a4493a3dfd7390826fd84": {
      "model_module": "@jupyter-widgets/base",
      "model_module_version": "1.1.0",
      "model_name": "LayoutModel",
      "state": {}
     },
     "4102c97aae39415bae85cce50201d5a8": {
      "model_module": "@jupyter-widgets/controls",
      "model_module_version": "1.4.0",
      "model_name": "DescriptionStyleModel",
      "state": {
       "description_width": ""
      }
     },
     "410a397b891f4bc0b1e52c7208c2a4aa": {
      "model_module": "plotlywidget",
      "model_module_version": "^0.11.0",
      "model_name": "FigureModel",
      "state": {
       "_config": {
        "plotlyServerURL": "https://plot.ly"
       },
       "_js2py_layoutDelta": {},
       "_js2py_pointsCallback": {},
       "_js2py_relayout": {},
       "_js2py_restyle": {},
       "_js2py_traceDeltas": {},
       "_js2py_update": {},
       "_layout": {
        "template": {}
       },
       "_py2js_addTraces": {},
       "_py2js_animate": {},
       "_py2js_deleteTraces": {},
       "_py2js_moveTraces": {},
       "_py2js_removeLayoutProps": {},
       "_py2js_removeTraceProps": {},
       "_py2js_restyle": {},
       "_py2js_update": {},
       "_view_count": 0
      }
     },
     "416fede4fdb24c029cbfb25ce3cd6c89": {
      "model_module": "@jupyter-widgets/controls",
      "model_module_version": "1.4.0",
      "model_name": "HTMLModel",
      "state": {
       "layout": "IPY_MODEL_5fa6a25ce87a4ab28498d930156655ca",
       "style": "IPY_MODEL_0c5657ade2a04aafa4ca369d965370de"
      }
     },
     "41774727c77546549b7afb75cbe1fc83": {
      "model_module": "@jupyter-widgets/base",
      "model_module_version": "1.1.0",
      "model_name": "LayoutModel",
      "state": {}
     },
     "425f1282fdf34131ba9c71d9977509e0": {
      "model_module": "@jupyter-widgets/base",
      "model_module_version": "1.1.0",
      "model_name": "LayoutModel",
      "state": {}
     },
     "42fd796b8766450bb6033e1b689b0d12": {
      "model_module": "@jupyter-widgets/controls",
      "model_module_version": "1.4.0",
      "model_name": "DescriptionStyleModel",
      "state": {
       "description_width": ""
      }
     },
     "431485e1b3884eb8983af3c58e674804": {
      "model_module": "@jupyter-widgets/base",
      "model_module_version": "1.1.0",
      "model_name": "LayoutModel",
      "state": {}
     },
     "4382a61974104384b24fb49b34d4a222": {
      "model_module": "@jupyter-widgets/base",
      "model_module_version": "1.1.0",
      "model_name": "LayoutModel",
      "state": {}
     },
     "4394ebdc5c8649a0a8f72fd9bda18488": {
      "model_module": "@jupyter-widgets/controls",
      "model_module_version": "1.4.0",
      "model_name": "VBoxModel",
      "state": {
       "children": [
        "IPY_MODEL_d2b55c1a29da418680c36cc3d3029847",
        "IPY_MODEL_563e5cb0b7e14759b313c8302d016ee9"
       ],
       "layout": "IPY_MODEL_aaf8130b8a044b02afddd120085e35ff"
      }
     },
     "43f65ed4922c4507ae9090e177b8085b": {
      "model_module": "@jupyter-widgets/controls",
      "model_module_version": "1.4.0",
      "model_name": "DescriptionStyleModel",
      "state": {
       "description_width": ""
      }
     },
     "447811c859144e7a921ed17ad0ed9827": {
      "model_module": "@jupyter-widgets/controls",
      "model_module_version": "1.4.0",
      "model_name": "DescriptionStyleModel",
      "state": {
       "description_width": ""
      }
     },
     "44b750b116f749898cedbd90753cfad7": {
      "model_module": "@jupyter-widgets/controls",
      "model_module_version": "1.4.0",
      "model_name": "DescriptionStyleModel",
      "state": {
       "description_width": ""
      }
     },
     "44d2196700fb4998a85eca471a46299c": {
      "model_module": "@jupyter-widgets/controls",
      "model_module_version": "1.4.0",
      "model_name": "LabelModel",
      "state": {
       "layout": "IPY_MODEL_af43fa0554b54fdc89a9c5f428e4fe4a",
       "style": "IPY_MODEL_463fa4f081604372a29dbf2356150ac3",
       "value": "Target Risk Probability (%):"
      }
     },
     "46010dccb30c4aecac64b469f8c5f9fa": {
      "model_module": "@jupyter-widgets/controls",
      "model_module_version": "1.4.0",
      "model_name": "DescriptionStyleModel",
      "state": {
       "description_width": ""
      }
     },
     "4613aefdb7ac47ab8915f80709d03e18": {
      "model_module": "@jupyter-widgets/base",
      "model_module_version": "1.1.0",
      "model_name": "LayoutModel",
      "state": {}
     },
     "463fa4f081604372a29dbf2356150ac3": {
      "model_module": "@jupyter-widgets/controls",
      "model_module_version": "1.4.0",
      "model_name": "DescriptionStyleModel",
      "state": {
       "description_width": ""
      }
     },
     "465a177bb28e4184bf40dd2a2d18274a": {
      "model_module": "@jupyter-widgets/controls",
      "model_module_version": "1.4.0",
      "model_name": "ButtonStyleModel",
      "state": {}
     },
     "46e0985ef8cb41bea876a85fdc9f7e04": {
      "model_module": "@jupyter-widgets/base",
      "model_module_version": "1.1.0",
      "model_name": "LayoutModel",
      "state": {}
     },
     "471821e033074c48b15238b05a7e50c4": {
      "model_module": "@jupyter-widgets/controls",
      "model_module_version": "1.4.0",
      "model_name": "HBoxModel",
      "state": {
       "children": [
        "IPY_MODEL_6f344ee64d4e4835acff8b2c213d2d64",
        "IPY_MODEL_88a6524568d24f9b96d569d1dd56dedd",
        "IPY_MODEL_8ed6fba9523d4674af22c7ebe8f91d05",
        "IPY_MODEL_8886464f468d44968927a99cbe152be2"
       ],
       "layout": "IPY_MODEL_66a2f4ad049b436f9ae82cf4c68dd4c4"
      }
     },
     "47b8dbf5bdcf4438af05ec31b407226c": {
      "model_module": "@jupyter-widgets/controls",
      "model_module_version": "1.4.0",
      "model_name": "HBoxModel",
      "state": {
       "children": [
        "IPY_MODEL_e8642430c70c4b808d71a3fd914f890b",
        "IPY_MODEL_7eea7da69cdb4587ba70f70a31eaec05",
        "IPY_MODEL_e50c032447ea41a0b2f61c98d1dd5110",
        "IPY_MODEL_dfcb151868de4201818e5dc9aa9b7153"
       ],
       "layout": "IPY_MODEL_076211dd8b1b420485d75a66df1c70c8"
      }
     },
     "48250906c8fe49ce9e64941f0f054d27": {
      "model_module": "@jupyter-widgets/base",
      "model_module_version": "1.1.0",
      "model_name": "LayoutModel",
      "state": {}
     },
     "486233c6a87e4842975fb1ad64263eb5": {
      "model_module": "@jupyter-widgets/controls",
      "model_module_version": "1.4.0",
      "model_name": "DescriptionStyleModel",
      "state": {
       "description_width": ""
      }
     },
     "48e1266f72a64919be4dc946e2f090d1": {
      "model_module": "@jupyter-widgets/base",
      "model_module_version": "1.1.0",
      "model_name": "LayoutModel",
      "state": {}
     },
     "48e9d8f63dc84af9ac8339ada85728c1": {
      "model_module": "@jupyter-widgets/controls",
      "model_module_version": "1.4.0",
      "model_name": "ButtonStyleModel",
      "state": {}
     },
     "4b00e5b8c4ef4c468bfc3776f3a455aa": {
      "model_module": "@jupyter-widgets/base",
      "model_module_version": "1.1.0",
      "model_name": "LayoutModel",
      "state": {}
     },
     "4b43587c7cfc45bca9cf3f8e3f5d337c": {
      "model_module": "@jupyter-widgets/controls",
      "model_module_version": "1.4.0",
      "model_name": "DescriptionStyleModel",
      "state": {
       "description_width": ""
      }
     },
     "4b6f6dfb8ab34b9993ace26b3d681f1b": {
      "model_module": "@jupyter-widgets/base",
      "model_module_version": "1.1.0",
      "model_name": "LayoutModel",
      "state": {}
     },
     "4cd5cc1c1a784b4fa793d171b6be7edd": {
      "model_module": "@jupyter-widgets/base",
      "model_module_version": "1.1.0",
      "model_name": "LayoutModel",
      "state": {}
     },
     "4da5044e11f3490aadb96d37432f2053": {
      "model_module": "@jupyter-widgets/controls",
      "model_module_version": "1.4.0",
      "model_name": "BoundedFloatTextModel",
      "state": {
       "layout": "IPY_MODEL_8163f0adb16a4bfab375e6d91b6e85a2",
       "step": 1,
       "style": "IPY_MODEL_d1a283981cf64dcc88463f8896d8f23e",
       "value": 5
      }
     },
     "4e00b2f436f34af484f43e9f69ad67f9": {
      "model_module": "@jupyter-widgets/controls",
      "model_module_version": "1.4.0",
      "model_name": "LabelModel",
      "state": {
       "layout": "IPY_MODEL_17332132590641a8856e108913fc41f4",
       "style": "IPY_MODEL_c36064f757d24c37a5f067b8dcde7ca5",
       "value": "Probability of Risk (%):"
      }
     },
     "4e0a90d2dbef47b3a0ea8c2818ec1472": {
      "model_module": "@jupyter-widgets/controls",
      "model_module_version": "1.4.0",
      "model_name": "LabelModel",
      "state": {
       "layout": "IPY_MODEL_fe4a5e026d284f00b13aa793c0f87b1c",
       "style": "IPY_MODEL_e9f5035cc201410883ff350b7b2caa03",
       "value": "Target Risk(%):"
      }
     },
     "4e2e297586304854b71fc94ce5d937ae": {
      "model_module": "@jupyter-widgets/controls",
      "model_module_version": "1.4.0",
      "model_name": "DescriptionStyleModel",
      "state": {
       "description_width": ""
      }
     },
     "4e5083353d7540bd8db334d1f911a634": {
      "model_module": "@jupyter-widgets/controls",
      "model_module_version": "1.4.0",
      "model_name": "BoundedFloatTextModel",
      "state": {
       "description": "Probability of Risk (%):",
       "layout": "IPY_MODEL_8b7c4d46a5124314804b58cd8d37289e",
       "step": 1,
       "style": "IPY_MODEL_799d122e94dd467abdd4772df8e0ce53",
       "value": 20
      }
     },
     "4eee153568d54a7588cc71279007dd65": {
      "model_module": "@jupyter-widgets/controls",
      "model_module_version": "1.4.0",
      "model_name": "ValidModel",
      "state": {
       "layout": "IPY_MODEL_41774727c77546549b7afb75cbe1fc83",
       "style": "IPY_MODEL_e5823e361905426fbcef4b93306d7c19",
       "value": true
      }
     },
     "506c69239b034b65842b90c65d6f8a0c": {
      "model_module": "@jupyter-widgets/base",
      "model_module_version": "1.1.0",
      "model_name": "LayoutModel",
      "state": {}
     },
     "50a260d674ba4094a7cae08510bfae17": {
      "model_module": "@jupyter-widgets/base",
      "model_module_version": "1.1.0",
      "model_name": "LayoutModel",
      "state": {}
     },
     "51ad18d981e347b2b778117208f87349": {
      "model_module": "@jupyter-widgets/controls",
      "model_module_version": "1.4.0",
      "model_name": "DescriptionStyleModel",
      "state": {
       "description_width": ""
      }
     },
     "5243f2a38afa4b8695a47e698d949e8f": {
      "model_module": "@jupyter-widgets/base",
      "model_module_version": "1.1.0",
      "model_name": "LayoutModel",
      "state": {}
     },
     "528f346f3d554c948cb9d35995c1831c": {
      "model_module": "@jupyter-widgets/controls",
      "model_module_version": "1.4.0",
      "model_name": "BoundedFloatTextModel",
      "state": {
       "layout": "IPY_MODEL_359ac5a8065a49698a3fb3daa7794c01",
       "step": 1,
       "style": "IPY_MODEL_2d2bb58bbc054862baf03f213b549ae2",
       "value": 1
      }
     },
     "52aa62ff2a9a4308a83bcabcbbb4492b": {
      "model_module": "@jupyter-widgets/controls",
      "model_module_version": "1.4.0",
      "model_name": "ButtonModel",
      "state": {
       "description": "Submit",
       "layout": "IPY_MODEL_f90bbaf4dfb84dc3b2d79de9fe40c549",
       "style": "IPY_MODEL_c9dc4d218be44ba2abbeca15b2d48a36"
      }
     },
     "52b6ad1fd8e94d899f723b7857e7b2bd": {
      "model_module": "@jupyter-widgets/controls",
      "model_module_version": "1.4.0",
      "model_name": "BoundedFloatTextModel",
      "state": {
       "layout": "IPY_MODEL_ea2fa104d71f4a16979690bfb9f40f96",
       "step": 1,
       "style": "IPY_MODEL_a5be05da1e11420fa234e266714912a7",
       "value": 5
      }
     },
     "52e9c6ada0334113b9bb5188aa76a234": {
      "model_module": "@jupyter-widgets/controls",
      "model_module_version": "1.4.0",
      "model_name": "VBoxModel",
      "state": {
       "children": [
        "IPY_MODEL_bff7700dd7944124a92f065687a1e9c2",
        "IPY_MODEL_e7a4c8958aa5495eb46d540ee48ebf6f"
       ],
       "layout": "IPY_MODEL_48e1266f72a64919be4dc946e2f090d1"
      }
     },
     "5309676f97c6433e815f953302de8814": {
      "model_module": "@jupyter-widgets/base",
      "model_module_version": "1.1.0",
      "model_name": "LayoutModel",
      "state": {}
     },
     "5337b3a7062240f8b1e1b5b1951dff03": {
      "model_module": "@jupyter-widgets/base",
      "model_module_version": "1.1.0",
      "model_name": "LayoutModel",
      "state": {}
     },
     "546d66ec97e8447285c6ccdb568218ff": {
      "model_module": "@jupyter-widgets/controls",
      "model_module_version": "1.4.0",
      "model_name": "DescriptionStyleModel",
      "state": {
       "description_width": ""
      }
     },
     "5495696e2c4547cf890d7893ac3dcbe4": {
      "model_module": "@jupyter-widgets/controls",
      "model_module_version": "1.4.0",
      "model_name": "HBoxModel",
      "state": {
       "children": [
        "IPY_MODEL_4e00b2f436f34af484f43e9f69ad67f9",
        "IPY_MODEL_894a10ab3eec4d7f8611d0780c863b24",
        "IPY_MODEL_d764331b331b403f92fbf09691e31a5b",
        "IPY_MODEL_ead92b198dba49dd9e01cc8049d5dc52"
       ],
       "layout": "IPY_MODEL_e34ca1e6e9df48cfa1303e8a8d345c94"
      }
     },
     "54baa5c6a4524dd3bdfe10a6db5a9fd4": {
      "model_module": "@jupyter-widgets/controls",
      "model_module_version": "1.4.0",
      "model_name": "BoundedFloatTextModel",
      "state": {
       "layout": "IPY_MODEL_db53383edcac4064845a6f1675e6985c",
       "step": 1,
       "style": "IPY_MODEL_3a7f528e7f8349bcae2ce3822fcd478f",
       "value": 5
      }
     },
     "557d8b4bb36f40e1b1b18becf0ab70cb": {
      "model_module": "@jupyter-widgets/controls",
      "model_module_version": "1.4.0",
      "model_name": "BoundedFloatTextModel",
      "state": {
       "description": "Probability of Risk (%):",
       "layout": "IPY_MODEL_9cf880ef1514441fa12732e59715a950",
       "step": 1,
       "style": "IPY_MODEL_4102c97aae39415bae85cce50201d5a8",
       "value": 5
      }
     },
     "55a1ad611209428bae5c1299790d1ba5": {
      "model_module": "@jupyter-widgets/controls",
      "model_module_version": "1.4.0",
      "model_name": "BoundedFloatTextModel",
      "state": {
       "layout": "IPY_MODEL_2ff164a530f84059937b1a390461c142",
       "step": 1,
       "style": "IPY_MODEL_184804a4c7944e368074f9fce85fed98",
       "value": 5
      }
     },
     "563e5cb0b7e14759b313c8302d016ee9": {
      "model_module": "plotlywidget",
      "model_module_version": "^0.11.0",
      "model_name": "FigureModel",
      "state": {
       "_config": {
        "plotlyServerURL": "https://plot.ly"
       },
       "_data": [
        {
         "type": "scatter",
         "uid": "3dbe1013-28af-4cc5-9c9a-bbeea8dbd7a1",
         "x": [
          10,
          20,
          50,
          100,
          200,
          500,
          1000,
          1500
         ],
         "y": [
          20.96598515849485,
          16.079962319178033,
          11.889736083015691,
          9.780018610798596,
          8.226923867139623,
          7.356944179259375,
          7.268476857339998,
          7.297809486986749
         ]
        }
       ],
       "_js2py_restyle": {},
       "_js2py_update": {},
       "_last_layout_edit_id": 21,
       "_last_trace_edit_id": 17,
       "_layout": {
        "autosize": true,
        "template": {},
        "xaxis": {
         "range": [
          710.7826203803918,
          833.4668525747105
         ]
        },
        "yaxis": {
         "range": [
          6.265156185599356,
          21.969305830235488
         ]
        }
       },
       "_py2js_animate": {},
       "_py2js_moveTraces": {},
       "_py2js_removeLayoutProps": {},
       "_py2js_removeTraceProps": {},
       "_py2js_restyle": {},
       "_py2js_update": {},
       "_view_count": 0
      }
     },
     "56af7f3b793148a39ba52c766947597c": {
      "model_module": "@jupyter-widgets/controls",
      "model_module_version": "1.4.0",
      "model_name": "DescriptionStyleModel",
      "state": {
       "description_width": ""
      }
     },
     "56cb0a7c190748e5a220225d002fb45f": {
      "model_module": "@jupyter-widgets/controls",
      "model_module_version": "1.4.0",
      "model_name": "DescriptionStyleModel",
      "state": {
       "description_width": ""
      }
     },
     "5740df026c954f80befc774b03642456": {
      "model_module": "@jupyter-widgets/base",
      "model_module_version": "1.1.0",
      "model_name": "LayoutModel",
      "state": {}
     },
     "57eb650b613849918627000fd6ebf851": {
      "model_module": "@jupyter-widgets/controls",
      "model_module_version": "1.4.0",
      "model_name": "HTMLModel",
      "state": {
       "layout": "IPY_MODEL_ad9b5033a5a84d6d8d28e6f20f121e8e",
       "style": "IPY_MODEL_f4d705626ca54f5d87f689b665cb84d6"
      }
     },
     "597c7fe19a5d412ab9013ca3e5dda055": {
      "model_module": "plotlywidget",
      "model_module_version": "^0.11.0",
      "model_name": "FigureModel",
      "state": {
       "_config": {
        "plotlyServerURL": "https://plot.ly"
       },
       "_js2py_pointsCallback": {},
       "_js2py_restyle": {},
       "_js2py_update": {},
       "_last_layout_edit_id": 1,
       "_layout": {
        "autosize": true,
        "template": {}
       },
       "_py2js_addTraces": {},
       "_py2js_animate": {},
       "_py2js_deleteTraces": {},
       "_py2js_moveTraces": {},
       "_py2js_removeLayoutProps": {},
       "_py2js_removeTraceProps": {},
       "_py2js_restyle": {},
       "_py2js_update": {},
       "_view_count": 0
      }
     },
     "59ca62cda853484cb6edc470e9a3c832": {
      "model_module": "@jupyter-widgets/controls",
      "model_module_version": "1.4.0",
      "model_name": "ValidModel",
      "state": {
       "layout": "IPY_MODEL_eaef35d669e14f8f982da1cfa46aa212",
       "style": "IPY_MODEL_f024e7fe2ca34fd9aa69a0420f21999d",
       "value": true
      }
     },
     "5aabff1b1056472eb0c20f02080943dd": {
      "model_module": "@jupyter-widgets/base",
      "model_module_version": "1.1.0",
      "model_name": "LayoutModel",
      "state": {}
     },
     "5ad11c0e0c3c4cb097a070e03a4d8f55": {
      "model_module": "@jupyter-widgets/controls",
      "model_module_version": "1.4.0",
      "model_name": "HBoxModel",
      "state": {
       "children": [
        "IPY_MODEL_79654850aeee4fc89c45a8a9883dfeef",
        "IPY_MODEL_52b6ad1fd8e94d899f723b7857e7b2bd",
        "IPY_MODEL_ce95f010c3654cc7aabe682a43522266",
        "IPY_MODEL_24ec6a6f04594f80a348974f214cfaa0"
       ],
       "layout": "IPY_MODEL_0e23328b9cd74c27a056fb0a524596d0"
      }
     },
     "5bcf103086ad4293bcd2e82f3b3b411d": {
      "model_module": "@jupyter-widgets/controls",
      "model_module_version": "1.4.0",
      "model_name": "HBoxModel",
      "state": {
       "children": [
        "IPY_MODEL_100b0532242841e7b035fe2557a3bd75",
        "IPY_MODEL_227f88b0f2e440cdada4ccab98a4b6d7",
        "IPY_MODEL_cb3b2b8a6e734dc4b5ee246490bda875",
        "IPY_MODEL_d18014e47fd343d09f9e7fe4de0d4b3d"
       ],
       "layout": "IPY_MODEL_6d6eb531d60a4683a22d4e4b9974c569"
      }
     },
     "5bebb40a6c214ea1ac79298e936f9137": {
      "model_module": "@jupyter-widgets/controls",
      "model_module_version": "1.4.0",
      "model_name": "VBoxModel",
      "state": {
       "children": [
        "IPY_MODEL_f6c2501ccc2041428464bdf38c4ff02c",
        "IPY_MODEL_33b50b3843414a6b92e5060bdeb625d7"
       ],
       "layout": "IPY_MODEL_8745d13f17b242979b130db1fd384696"
      }
     },
     "5c4129f851604a6ca47f3908b081284b": {
      "model_module": "@jupyter-widgets/controls",
      "model_module_version": "1.4.0",
      "model_name": "DescriptionStyleModel",
      "state": {
       "description_width": ""
      }
     },
     "5cba21cd4587437c9a1a07857fb8c2ac": {
      "model_module": "@jupyter-widgets/base",
      "model_module_version": "1.1.0",
      "model_name": "LayoutModel",
      "state": {}
     },
     "5d3dd73732e24b879daa41c4387b4297": {
      "model_module": "@jupyter-widgets/controls",
      "model_module_version": "1.4.0",
      "model_name": "ButtonStyleModel",
      "state": {}
     },
     "5da953528aad4e1e81096b21d6d549bd": {
      "model_module": "@jupyter-widgets/controls",
      "model_module_version": "1.4.0",
      "model_name": "VBoxModel",
      "state": {
       "children": [
        "IPY_MODEL_5495696e2c4547cf890d7893ac3dcbe4",
        "IPY_MODEL_a5b1dae496414722b3f42a7336537ab0"
       ],
       "layout": "IPY_MODEL_bbb90ce49a794dd0ac4831f75c3b254e"
      }
     },
     "5e2e2b37718546ddbf35f153c9a90912": {
      "model_module": "plotlywidget",
      "model_module_version": "^0.11.0",
      "model_name": "FigureModel",
      "state": {
       "_config": {
        "plotlyServerURL": "https://plot.ly"
       },
       "_js2py_layoutDelta": {},
       "_js2py_pointsCallback": {},
       "_js2py_relayout": {},
       "_js2py_restyle": {},
       "_js2py_traceDeltas": {},
       "_js2py_update": {},
       "_layout": {
        "template": {}
       },
       "_py2js_addTraces": {},
       "_py2js_animate": {},
       "_py2js_deleteTraces": {},
       "_py2js_moveTraces": {},
       "_py2js_removeLayoutProps": {},
       "_py2js_removeTraceProps": {},
       "_py2js_restyle": {},
       "_py2js_update": {},
       "_view_count": 0
      }
     },
     "5f6bdb576e584911bafde67006dea4f6": {
      "model_module": "@jupyter-widgets/controls",
      "model_module_version": "1.4.0",
      "model_name": "ValidModel",
      "state": {
       "layout": "IPY_MODEL_98030cac5aa9447ead9197ee5141d98d",
       "style": "IPY_MODEL_447811c859144e7a921ed17ad0ed9827",
       "value": true
      }
     },
     "5fa6a25ce87a4ab28498d930156655ca": {
      "model_module": "@jupyter-widgets/base",
      "model_module_version": "1.1.0",
      "model_name": "LayoutModel",
      "state": {}
     },
     "5fe45b65aa56468fa8e0d68817ab8d32": {
      "model_module": "@jupyter-widgets/controls",
      "model_module_version": "1.4.0",
      "model_name": "DescriptionStyleModel",
      "state": {
       "description_width": ""
      }
     },
     "6038c7c934164c059bc5c87e758fa169": {
      "model_module": "@jupyter-widgets/controls",
      "model_module_version": "1.4.0",
      "model_name": "DescriptionStyleModel",
      "state": {
       "description_width": ""
      }
     },
     "606691392c78445ebcf10bc0c2321030": {
      "model_module": "@jupyter-widgets/controls",
      "model_module_version": "1.4.0",
      "model_name": "ButtonModel",
      "state": {
       "description": "Submit",
       "layout": "IPY_MODEL_72929557f3694c76b6c049a3bd6f6c4b",
       "style": "IPY_MODEL_e9f821fef9544be79d2ba88af9cfa2c5"
      }
     },
     "608b3dc844ad4ccc846c1b5b0ea42a26": {
      "model_module": "@jupyter-widgets/controls",
      "model_module_version": "1.4.0",
      "model_name": "DescriptionStyleModel",
      "state": {
       "description_width": ""
      }
     },
     "60a2619aca3d4f33b5ee9153852f0934": {
      "model_module": "@jupyter-widgets/controls",
      "model_module_version": "1.4.0",
      "model_name": "HBoxModel",
      "state": {
       "children": [
        "IPY_MODEL_8195aa5a042a493fa7bc67b208cea208",
        "IPY_MODEL_30ed0c50d2b3420383fb16343b0e4284",
        "IPY_MODEL_c701075651c44aef84146e347636059e",
        "IPY_MODEL_e84fa1249fe043a4893ac7584fe362cd"
       ],
       "layout": "IPY_MODEL_ccfcf5ae58224c328026bed7a445986d"
      }
     },
     "60aaed8561e145c6a224be4cb19f9858": {
      "model_module": "@jupyter-widgets/controls",
      "model_module_version": "1.4.0",
      "model_name": "HTMLModel",
      "state": {
       "layout": "IPY_MODEL_13a1cc1b40124212ae76c3b42ff31a73",
       "style": "IPY_MODEL_fed736766d87405e9a92ce47322d0186"
      }
     },
     "614f48a1ecff41a0b93d1f129d06f3a4": {
      "model_module": "@jupyter-widgets/controls",
      "model_module_version": "1.4.0",
      "model_name": "ButtonStyleModel",
      "state": {}
     },
     "61f2465acf9a4f51ac6ca53ccd4f235e": {
      "model_module": "@jupyter-widgets/controls",
      "model_module_version": "1.4.0",
      "model_name": "ValidModel",
      "state": {
       "layout": "IPY_MODEL_a38d43302a114a7f88c7a57d97d915a5",
       "style": "IPY_MODEL_d234da008bb74dfb8463884fa6b9bef4",
       "value": true
      }
     },
     "621952efbfcc42249451cdc72662c2bf": {
      "model_module": "@jupyter-widgets/controls",
      "model_module_version": "1.4.0",
      "model_name": "ValidModel",
      "state": {
       "layout": "IPY_MODEL_f60b3c48e4ab42e1ac43f44267c11dd7",
       "style": "IPY_MODEL_fc4fef3413254f00809945d25abca964",
       "value": true
      }
     },
     "62cae89853c54d7d9b9feaf6dabaa7e7": {
      "model_module": "@jupyter-widgets/base",
      "model_module_version": "1.1.0",
      "model_name": "LayoutModel",
      "state": {}
     },
     "63a7f9ba980e499da39038cd81ee59d3": {
      "model_module": "@jupyter-widgets/controls",
      "model_module_version": "1.4.0",
      "model_name": "BoundedFloatTextModel",
      "state": {
       "description": "Probability of Risk (%):",
       "layout": "IPY_MODEL_6774b07d501f48ffa52cb070dd809565",
       "step": 1,
       "style": "IPY_MODEL_cb77dd814bce49dcb6b674abc2736b35",
       "value": 5
      }
     },
     "642db7082bea4eb3a6685ae7bd5f3479": {
      "model_module": "@jupyter-widgets/base",
      "model_module_version": "1.1.0",
      "model_name": "LayoutModel",
      "state": {}
     },
     "6430a64372ba48e292f9969ea5a97bc7": {
      "model_module": "@jupyter-widgets/controls",
      "model_module_version": "1.4.0",
      "model_name": "LabelModel",
      "state": {
       "layout": "IPY_MODEL_23065f8ef04c47d4a8e68f2297303db8",
       "style": "IPY_MODEL_4e2e297586304854b71fc94ce5d937ae",
       "value": "Target Risk (%):"
      }
     },
     "65153526722b481b9e336d9269248473": {
      "model_module": "@jupyter-widgets/controls",
      "model_module_version": "1.4.0",
      "model_name": "HBoxModel",
      "state": {
       "children": [
        "IPY_MODEL_2fe2a3672cae48cea9f723a023a344e0",
        "IPY_MODEL_97060fe03d5c4384a56ccdd48b9057d6",
        "IPY_MODEL_19b822b46f3747759aab9d98c22dcb9c",
        "IPY_MODEL_89e9fa4a1ceb43b9bc93e2cefeaf3db4"
       ],
       "layout": "IPY_MODEL_9fd4260912744658acb273480f0d6fa2"
      }
     },
     "6575d364e581420ba2a984000c936e81": {
      "model_module": "@jupyter-widgets/controls",
      "model_module_version": "1.4.0",
      "model_name": "VBoxModel",
      "state": {
       "children": [
        "IPY_MODEL_60a2619aca3d4f33b5ee9153852f0934",
        "IPY_MODEL_95391c22c9344e7ba64ddc2bf870433e"
       ],
       "layout": "IPY_MODEL_f737c73fd0e9408999f6cbffecf1f0ba"
      }
     },
     "65d9780ea32144ac994b0bada60daa6b": {
      "model_module": "@jupyter-widgets/base",
      "model_module_version": "1.1.0",
      "model_name": "LayoutModel",
      "state": {}
     },
     "66a2f4ad049b436f9ae82cf4c68dd4c4": {
      "model_module": "@jupyter-widgets/base",
      "model_module_version": "1.1.0",
      "model_name": "LayoutModel",
      "state": {}
     },
     "66f3c16f76b34f1d97bea6011cf75534": {
      "model_module": "@jupyter-widgets/base",
      "model_module_version": "1.1.0",
      "model_name": "DOMWidgetModel",
      "state": {
       "_graph_url": "https://plot.ly/~YoussefHossam/6",
       "_message": "",
       "_model_name": "DOMWidgetModel",
       "_new_url": "",
       "_view_module": "graphWidget",
       "_view_module_version": "",
       "_view_name": "GraphView",
       "layout": "IPY_MODEL_1c7b34de0b3340659706d93a09253c35"
      }
     },
     "6774b07d501f48ffa52cb070dd809565": {
      "model_module": "@jupyter-widgets/base",
      "model_module_version": "1.1.0",
      "model_name": "LayoutModel",
      "state": {}
     },
     "678f7291fe624597a58aeada66d3cdad": {
      "model_module": "@jupyter-widgets/base",
      "model_module_version": "1.1.0",
      "model_name": "DOMWidgetModel",
      "state": {
       "_graph_url": "https://plot.ly/~YoussefHossam/6",
       "_message": "",
       "_model_name": "DOMWidgetModel",
       "_new_url": "",
       "_view_module": "graphWidget",
       "_view_module_version": "",
       "_view_name": "GraphView",
       "layout": "IPY_MODEL_be7c5f44aed24a978da06ca612ad9c2b"
      }
     },
     "67d7f05a033e406791674ef766468c08": {
      "model_module": "plotlywidget",
      "model_module_version": "^0.11.0",
      "model_name": "FigureModel",
      "state": {
       "_config": {
        "plotlyServerURL": "https://plot.ly"
       },
       "_data": [
        {
         "type": "scatter",
         "uid": "96a762e9-99fd-4f5a-8723-ec0c8ad1b57a",
         "x": [
          10,
          20,
          50,
          100,
          200,
          500,
          1000,
          1500
         ],
         "y": [
          20.96598515849485,
          16.079962319178033,
          11.889736083015691,
          9.780018610798596,
          8.226923867139623,
          7.356944179259375,
          7.268476857339998,
          7.297809486986749
         ]
        }
       ],
       "_js2py_restyle": {},
       "_js2py_update": {},
       "_last_layout_edit_id": 2,
       "_last_trace_edit_id": 1,
       "_layout": {
        "autosize": true,
        "template": {}
       },
       "_py2js_animate": {},
       "_py2js_deleteTraces": {},
       "_py2js_moveTraces": {},
       "_py2js_removeLayoutProps": {},
       "_py2js_removeTraceProps": {},
       "_py2js_restyle": {},
       "_py2js_update": {},
       "_view_count": 0
      }
     },
     "691ccc10bdf749b29768a47c1ce2a178": {
      "model_module": "@jupyter-widgets/controls",
      "model_module_version": "1.4.0",
      "model_name": "DescriptionStyleModel",
      "state": {
       "description_width": ""
      }
     },
     "698c5cd90fe94c9a8cf34f28e5aa9145": {
      "model_module": "@jupyter-widgets/base",
      "model_module_version": "1.1.0",
      "model_name": "LayoutModel",
      "state": {}
     },
     "69ac44cecd8b4a7a9a18e059e3490539": {
      "model_module": "plotlywidget",
      "model_module_version": "^0.11.0",
      "model_name": "FigureModel",
      "state": {
       "_config": {
        "plotlyServerURL": "https://plot.ly"
       },
       "_js2py_pointsCallback": {},
       "_js2py_relayout": {},
       "_js2py_restyle": {},
       "_js2py_update": {},
       "_layout": {
        "template": {}
       },
       "_py2js_addTraces": {},
       "_py2js_animate": {},
       "_py2js_deleteTraces": {},
       "_py2js_moveTraces": {},
       "_py2js_removeLayoutProps": {},
       "_py2js_removeTraceProps": {},
       "_py2js_restyle": {},
       "_py2js_update": {},
       "_view_count": 0
      }
     },
     "6abd4247ac144d9bbc4ee4caecdecac0": {
      "model_module": "@jupyter-widgets/controls",
      "model_module_version": "1.4.0",
      "model_name": "DescriptionStyleModel",
      "state": {
       "description_width": ""
      }
     },
     "6b7502efabcd40caaa92d314c40b7a72": {
      "model_module": "@jupyter-widgets/base",
      "model_module_version": "1.1.0",
      "model_name": "LayoutModel",
      "state": {}
     },
     "6bc4cf64b3b048fea470d4581bfa8046": {
      "model_module": "@jupyter-widgets/controls",
      "model_module_version": "1.4.0",
      "model_name": "ButtonStyleModel",
      "state": {}
     },
     "6c066769f4ff4d02b74b21cd095b1fb3": {
      "model_module": "@jupyter-widgets/controls",
      "model_module_version": "1.4.0",
      "model_name": "DescriptionStyleModel",
      "state": {
       "description_width": ""
      }
     },
     "6c545907d5164a55bda05f98f8ebf7fb": {
      "model_module": "@jupyter-widgets/controls",
      "model_module_version": "1.4.0",
      "model_name": "HBoxModel",
      "state": {
       "children": [
        "IPY_MODEL_c9140b07db824dfeb53c1cc6f6822b61",
        "IPY_MODEL_abf6a8aab7fd41fc9b335412f7e57624",
        "IPY_MODEL_3ad2c55f77494b1aa7bc9dc23d629ded",
        "IPY_MODEL_1fbee1914f8048a3a7f85cead35fdba5"
       ],
       "layout": "IPY_MODEL_a3db4e20ac9342448cc09773f1b87553"
      }
     },
     "6d687a42116a451187edf1803c4d0256": {
      "model_module": "@jupyter-widgets/controls",
      "model_module_version": "1.4.0",
      "model_name": "ButtonModel",
      "state": {
       "description": "Submit",
       "layout": "IPY_MODEL_5740df026c954f80befc774b03642456",
       "style": "IPY_MODEL_9784441bc53747dbbcd85f38e2645405"
      }
     },
     "6d6eb531d60a4683a22d4e4b9974c569": {
      "model_module": "@jupyter-widgets/base",
      "model_module_version": "1.1.0",
      "model_name": "LayoutModel",
      "state": {}
     },
     "6eba16a46b414b00aa6c8740966be53e": {
      "model_module": "@jupyter-widgets/controls",
      "model_module_version": "1.4.0",
      "model_name": "ButtonStyleModel",
      "state": {}
     },
     "6f04543413fe499bad36200ae118e634": {
      "model_module": "plotlywidget",
      "model_module_version": "^0.11.0",
      "model_name": "FigureModel",
      "state": {
       "_config": {
        "plotlyServerURL": "https://plot.ly"
       },
       "_js2py_pointsCallback": {},
       "_js2py_restyle": {},
       "_js2py_update": {},
       "_last_layout_edit_id": 1,
       "_layout": {
        "autosize": true,
        "template": {}
       },
       "_py2js_addTraces": {},
       "_py2js_animate": {},
       "_py2js_deleteTraces": {},
       "_py2js_moveTraces": {},
       "_py2js_removeLayoutProps": {},
       "_py2js_removeTraceProps": {},
       "_py2js_restyle": {},
       "_py2js_update": {},
       "_view_count": 0
      }
     },
     "6f344ee64d4e4835acff8b2c213d2d64": {
      "model_module": "@jupyter-widgets/controls",
      "model_module_version": "1.4.0",
      "model_name": "BoundedFloatTextModel",
      "state": {
       "description": "Probability of Risk (%):",
       "layout": "IPY_MODEL_5243f2a38afa4b8695a47e698d949e8f",
       "step": 1,
       "style": "IPY_MODEL_9d277a44fd874bdc9ddcb7a15667f9b2",
       "value": 5
      }
     },
     "6f4158912e6a4efe8174dc1defc49945": {
      "model_module": "@jupyter-widgets/base",
      "model_module_version": "1.1.0",
      "model_name": "LayoutModel",
      "state": {}
     },
     "703c3088308c4b18b49192f711252198": {
      "model_module": "@jupyter-widgets/base",
      "model_module_version": "1.1.0",
      "model_name": "LayoutModel",
      "state": {}
     },
     "71b51519afe44054bc8e7cf045023670": {
      "model_module": "@jupyter-widgets/base",
      "model_module_version": "1.1.0",
      "model_name": "LayoutModel",
      "state": {}
     },
     "7222d2cd755442ddb4228fd07b2a9798": {
      "model_module": "@jupyter-widgets/controls",
      "model_module_version": "1.4.0",
      "model_name": "HBoxModel",
      "state": {
       "children": [
        "IPY_MODEL_d8bb82f7d4fe4bb38ed7f7df7d109086",
        "IPY_MODEL_397876512f734a10a3066f39fed3266e",
        "IPY_MODEL_21405fb39eb140e5b11def29fa80633b",
        "IPY_MODEL_c731e6ba1b684159bc6868ddf8a95e9d"
       ],
       "layout": "IPY_MODEL_024931a4a29745d0bb50eafc17ba7282"
      }
     },
     "7255b20d95864148b3b3f57ecb9393bb": {
      "model_module": "@jupyter-widgets/controls",
      "model_module_version": "1.4.0",
      "model_name": "VBoxModel",
      "state": {
       "children": [
        "IPY_MODEL_866f8e4a24094b1497655816e1f3b8bf",
        "IPY_MODEL_f19a74cc471d4fe9baea82242341546f"
       ],
       "layout": "IPY_MODEL_bde0f816a2864f648261056afcfebcda"
      }
     },
     "727d0748a0344663bf2e3493fa0c764a": {
      "model_module": "@jupyter-widgets/controls",
      "model_module_version": "1.4.0",
      "model_name": "ButtonStyleModel",
      "state": {}
     },
     "72929557f3694c76b6c049a3bd6f6c4b": {
      "model_module": "@jupyter-widgets/base",
      "model_module_version": "1.1.0",
      "model_name": "LayoutModel",
      "state": {}
     },
     "731e107c8238460eb62a533d5c4e8213": {
      "model_module": "@jupyter-widgets/controls",
      "model_module_version": "1.4.0",
      "model_name": "ButtonModel",
      "state": {
       "description": "Submit",
       "layout": "IPY_MODEL_d1e97b1c88f44cdabde96778ea471bc7",
       "style": "IPY_MODEL_23437c3c32c64919aa23ccf093553435"
      }
     },
     "73c945cefa5c4fb2b1364b3078640c76": {
      "model_module": "@jupyter-widgets/controls",
      "model_module_version": "1.4.0",
      "model_name": "ButtonStyleModel",
      "state": {}
     },
     "741e41a633704c0b981d395b22ef2deb": {
      "model_module": "@jupyter-widgets/base",
      "model_module_version": "1.1.0",
      "model_name": "LayoutModel",
      "state": {}
     },
     "758c41e45633440287665891eaa1dd89": {
      "model_module": "@jupyter-widgets/base",
      "model_module_version": "1.1.0",
      "model_name": "LayoutModel",
      "state": {}
     },
     "75a98f43857b452e920298c694efeb2e": {
      "model_module": "@jupyter-widgets/base",
      "model_module_version": "1.1.0",
      "model_name": "LayoutModel",
      "state": {}
     },
     "760b33c9c8bb4245a1369d54efb9ea57": {
      "model_module": "@jupyter-widgets/controls",
      "model_module_version": "1.4.0",
      "model_name": "ValidModel",
      "state": {
       "layout": "IPY_MODEL_079d429dadf14fc98b11280c7f7d9b0f",
       "style": "IPY_MODEL_a5b71b8ccaf0474dbf570afddca2dc07",
       "value": true
      }
     },
     "7676406844c74ea991cffbe09372625a": {
      "model_module": "@jupyter-widgets/controls",
      "model_module_version": "1.4.0",
      "model_name": "DescriptionStyleModel",
      "state": {
       "description_width": ""
      }
     },
     "76c5a98bb54a450c9a33973c6d31d28f": {
      "model_module": "@jupyter-widgets/controls",
      "model_module_version": "1.4.0",
      "model_name": "DescriptionStyleModel",
      "state": {
       "description_width": ""
      }
     },
     "76e69430e3354bc2ac1dbb2bbd616881": {
      "model_module": "@jupyter-widgets/base",
      "model_module_version": "1.1.0",
      "model_name": "LayoutModel",
      "state": {}
     },
     "77665a9de3524a4f8287ecd7ebf25736": {
      "model_module": "@jupyter-widgets/controls",
      "model_module_version": "1.4.0",
      "model_name": "DescriptionStyleModel",
      "state": {
       "description_width": ""
      }
     },
     "77ecbc384eda4f49a502d3f297ad39ca": {
      "model_module": "@jupyter-widgets/controls",
      "model_module_version": "1.4.0",
      "model_name": "DescriptionStyleModel",
      "state": {
       "description_width": ""
      }
     },
     "787f1bb1ec1c4c50aeeac9f271bbb61f": {
      "model_module": "@jupyter-widgets/controls",
      "model_module_version": "1.4.0",
      "model_name": "HTMLModel",
      "state": {
       "layout": "IPY_MODEL_6f4158912e6a4efe8174dc1defc49945",
       "style": "IPY_MODEL_9b7bf745a6d4494592ae692e7eea23de"
      }
     },
     "78ea9d6a0a3c4058843f63f5370e2440": {
      "model_module": "@jupyter-widgets/controls",
      "model_module_version": "1.4.0",
      "model_name": "DescriptionStyleModel",
      "state": {
       "description_width": ""
      }
     },
     "7925dcaffccf4f5e898895a9e1cf6bef": {
      "model_module": "@jupyter-widgets/controls",
      "model_module_version": "1.4.0",
      "model_name": "HTMLModel",
      "state": {
       "layout": "IPY_MODEL_425f1282fdf34131ba9c71d9977509e0",
       "style": "IPY_MODEL_7fe36dc13cd04325bcc703266b324296"
      }
     },
     "794d8804cd1a4e29be679c5b025d495c": {
      "model_module": "@jupyter-widgets/base",
      "model_module_version": "1.1.0",
      "model_name": "LayoutModel",
      "state": {}
     },
     "79654850aeee4fc89c45a8a9883dfeef": {
      "model_module": "@jupyter-widgets/controls",
      "model_module_version": "1.4.0",
      "model_name": "LabelModel",
      "state": {
       "layout": "IPY_MODEL_d9f48a6e61bb47daa23c696eb79cbbed",
       "style": "IPY_MODEL_c6410a2a2a5344fe82623078e605609a",
       "value": "Target Risk Probability (%):"
      }
     },
     "799d122e94dd467abdd4772df8e0ce53": {
      "model_module": "@jupyter-widgets/controls",
      "model_module_version": "1.4.0",
      "model_name": "DescriptionStyleModel",
      "state": {
       "description_width": ""
      }
     },
     "7abbb4903d934ab88d51bed7e7b06820": {
      "model_module": "@jupyter-widgets/base",
      "model_module_version": "1.1.0",
      "model_name": "LayoutModel",
      "state": {}
     },
     "7b299b71ed664db29c330254d71bb73c": {
      "model_module": "@jupyter-widgets/controls",
      "model_module_version": "1.4.0",
      "model_name": "BoundedFloatTextModel",
      "state": {
       "description": "Probability of Risk (%):",
       "layout": "IPY_MODEL_bf4af2914da34d9c967dcdcac2f38511",
       "step": 1,
       "style": "IPY_MODEL_ae30115f837a4bcc883c8a90cb5a9f97",
       "value": 5
      }
     },
     "7bb271dab30c46e1918bc862db3dc0e7": {
      "model_module": "@jupyter-widgets/base",
      "model_module_version": "1.1.0",
      "model_name": "LayoutModel",
      "state": {}
     },
     "7bf306f8471f4475bb08f9a3554afb65": {
      "model_module": "@jupyter-widgets/controls",
      "model_module_version": "1.4.0",
      "model_name": "DescriptionStyleModel",
      "state": {
       "description_width": ""
      }
     },
     "7d48fba23e394122b8a3302742c40341": {
      "model_module": "@jupyter-widgets/controls",
      "model_module_version": "1.4.0",
      "model_name": "DescriptionStyleModel",
      "state": {
       "description_width": ""
      }
     },
     "7d811a6ff01b417d8fd7884019706e8a": {
      "model_module": "@jupyter-widgets/controls",
      "model_module_version": "1.4.0",
      "model_name": "ButtonStyleModel",
      "state": {}
     },
     "7ec974c44c574162a412d72c26849363": {
      "model_module": "@jupyter-widgets/controls",
      "model_module_version": "1.4.0",
      "model_name": "DescriptionStyleModel",
      "state": {
       "description_width": ""
      }
     },
     "7eea7da69cdb4587ba70f70a31eaec05": {
      "model_module": "@jupyter-widgets/controls",
      "model_module_version": "1.4.0",
      "model_name": "ButtonModel",
      "state": {
       "description": "Submit",
       "layout": "IPY_MODEL_3ccd4ca950f64dba8ee0a81a82685463",
       "style": "IPY_MODEL_0f6ddf659d454efda4af7720fe1abdbd"
      }
     },
     "7f352a6a5a4142fd9a4e16a15f4d620d": {
      "model_module": "@jupyter-widgets/controls",
      "model_module_version": "1.4.0",
      "model_name": "DescriptionStyleModel",
      "state": {
       "description_width": ""
      }
     },
     "7fe36dc13cd04325bcc703266b324296": {
      "model_module": "@jupyter-widgets/controls",
      "model_module_version": "1.4.0",
      "model_name": "DescriptionStyleModel",
      "state": {
       "description_width": ""
      }
     },
     "800593dce4754f819dbd36edf446a548": {
      "model_module": "@jupyter-widgets/controls",
      "model_module_version": "1.4.0",
      "model_name": "ValidModel",
      "state": {
       "layout": "IPY_MODEL_5309676f97c6433e815f953302de8814",
       "style": "IPY_MODEL_56cb0a7c190748e5a220225d002fb45f",
       "value": true
      }
     },
     "81074b865e1c484bafb7c25dc9cf2f1e": {
      "model_module": "@jupyter-widgets/controls",
      "model_module_version": "1.4.0",
      "model_name": "HBoxModel",
      "state": {
       "children": [
        "IPY_MODEL_f9c2e75798a54223966d829ed87c2f1d",
        "IPY_MODEL_8dabfd9aaa764d8f99c3b25a7e5672e8",
        "IPY_MODEL_5f6bdb576e584911bafde67006dea4f6",
        "IPY_MODEL_31470644f7e743d78ec236bb7768e9b0"
       ],
       "layout": "IPY_MODEL_c9c91f520e26450f9e1c86ee0c827c70"
      }
     },
     "8163f0adb16a4bfab375e6d91b6e85a2": {
      "model_module": "@jupyter-widgets/base",
      "model_module_version": "1.1.0",
      "model_name": "LayoutModel",
      "state": {}
     },
     "81939521591e4f7f85cc0ef69ee68145": {
      "model_module": "@jupyter-widgets/controls",
      "model_module_version": "1.4.0",
      "model_name": "DescriptionStyleModel",
      "state": {
       "description_width": ""
      }
     },
     "8195aa5a042a493fa7bc67b208cea208": {
      "model_module": "@jupyter-widgets/controls",
      "model_module_version": "1.4.0",
      "model_name": "LabelModel",
      "state": {
       "layout": "IPY_MODEL_a025a80a634141a0b86508867292313c",
       "style": "IPY_MODEL_d5c70993b6ee4c85a8a3e1de2d3a993b",
       "value": "Target Risk (%):"
      }
     },
     "82576fa4d67e4f2594e6684a0da9b9da": {
      "model_module": "@jupyter-widgets/controls",
      "model_module_version": "1.4.0",
      "model_name": "ValidModel",
      "state": {
       "layout": "IPY_MODEL_cd6183325e564b4b893fe7911ece8bb2",
       "style": "IPY_MODEL_ac00ba68efbe4ee6a70ddc20e95748e3",
       "value": true
      }
     },
     "827dfe0ec2394cabae76e5312eaf658d": {
      "model_module": "@jupyter-widgets/controls",
      "model_module_version": "1.4.0",
      "model_name": "HTMLModel",
      "state": {
       "layout": "IPY_MODEL_1c2512c58faa47b694eaafa55ef3412e",
       "style": "IPY_MODEL_219516280e7146f0be07cacdffcc0eca"
      }
     },
     "829722618b964dbeb30ccb1cbe42caf3": {
      "model_module": "@jupyter-widgets/controls",
      "model_module_version": "1.4.0",
      "model_name": "LabelModel",
      "state": {
       "layout": "IPY_MODEL_abe7f9102aec434095a26c402c4f373e",
       "style": "IPY_MODEL_f1bd26395f3843428bed0e3226200590",
       "value": "Target Risk(%):"
      }
     },
     "82bfd16bf1114ee6b07d6a6731cac28c": {
      "model_module": "@jupyter-widgets/controls",
      "model_module_version": "1.4.0",
      "model_name": "DescriptionStyleModel",
      "state": {
       "description_width": ""
      }
     },
     "846abc69d30646dc913f8d79656b677d": {
      "model_module": "@jupyter-widgets/controls",
      "model_module_version": "1.4.0",
      "model_name": "BoundedFloatTextModel",
      "state": {
       "description": "Probability of Risk (%):",
       "layout": "IPY_MODEL_75a98f43857b452e920298c694efeb2e",
       "step": 1,
       "style": "IPY_MODEL_39df5991f2be493c9821ce624d4478ab",
       "value": 2
      }
     },
     "847420369e2f4e0bba40b6251103390c": {
      "model_module": "@jupyter-widgets/controls",
      "model_module_version": "1.4.0",
      "model_name": "ValidModel",
      "state": {
       "layout": "IPY_MODEL_c0885798e3954c17a75ca6430b1d5980",
       "style": "IPY_MODEL_691ccc10bdf749b29768a47c1ce2a178",
       "value": true
      }
     },
     "8646b534dc604be4ac8017ff1f32f7cf": {
      "model_module": "@jupyter-widgets/base",
      "model_module_version": "1.1.0",
      "model_name": "LayoutModel",
      "state": {}
     },
     "866f8e4a24094b1497655816e1f3b8bf": {
      "model_module": "@jupyter-widgets/controls",
      "model_module_version": "1.4.0",
      "model_name": "HBoxModel",
      "state": {
       "children": [
        "IPY_MODEL_4e0a90d2dbef47b3a0ea8c2818ec1472",
        "IPY_MODEL_069beb35bf50434aa8e5ff558fc7f151",
        "IPY_MODEL_a27747acf240443aa7614552a4335098",
        "IPY_MODEL_82576fa4d67e4f2594e6684a0da9b9da"
       ],
       "layout": "IPY_MODEL_9bf295936b294d89ab7afce2e05832a6"
      }
     },
     "86dc55938524490cb87d7830d885c425": {
      "model_module": "@jupyter-widgets/base",
      "model_module_version": "1.1.0",
      "model_name": "LayoutModel",
      "state": {}
     },
     "873e8fa0694d4cbd971ff91b85229b57": {
      "buffers": [
       {
        "data": "AAAAAAEAAAACAAAAAwAAAAQAAAAFAAAABgAAAAcAAAA=",
        "encoding": "base64",
        "path": [
         "_data",
         0,
         "x",
         "value"
        ]
       }
      ],
      "model_module": "plotlywidget",
      "model_module_version": "^0.11.0",
      "model_name": "FigureModel",
      "state": {
       "_config": {
        "plotlyServerURL": "https://plot.ly"
       },
       "_data": [
        {
         "type": "scatter",
         "uid": "506edc4e-59d7-49df-98e4-dcbca5d8b982",
         "x": {
          "dtype": "int32",
          "shape": [
           8
          ]
         },
         "y": [
          20.96598515849485,
          16.079962319178033,
          11.889736083015691,
          9.780018610798596,
          8.226923867139623,
          7.356944179259375,
          7.268476857339998,
          7.297809486986749
         ]
        }
       ],
       "_js2py_layoutDelta": {},
       "_js2py_pointsCallback": {},
       "_js2py_relayout": {},
       "_js2py_restyle": {},
       "_js2py_traceDeltas": {},
       "_js2py_update": {},
       "_last_layout_edit_id": 1,
       "_last_trace_edit_id": 1,
       "_layout": {
        "template": {}
       },
       "_py2js_animate": {},
       "_py2js_deleteTraces": {},
       "_py2js_moveTraces": {},
       "_py2js_removeLayoutProps": {},
       "_py2js_removeTraceProps": {},
       "_py2js_restyle": {},
       "_py2js_update": {},
       "_view_count": 0
      }
     },
     "8745d13f17b242979b130db1fd384696": {
      "model_module": "@jupyter-widgets/base",
      "model_module_version": "1.1.0",
      "model_name": "LayoutModel",
      "state": {}
     },
     "8886464f468d44968927a99cbe152be2": {
      "model_module": "@jupyter-widgets/controls",
      "model_module_version": "1.4.0",
      "model_name": "HTMLModel",
      "state": {
       "layout": "IPY_MODEL_c676dcabbd154a29b4caefe15c894360",
       "style": "IPY_MODEL_0c0858eb8ca0469683ce0ce07b85d242"
      }
     },
     "88a6524568d24f9b96d569d1dd56dedd": {
      "model_module": "@jupyter-widgets/controls",
      "model_module_version": "1.4.0",
      "model_name": "ButtonModel",
      "state": {
       "description": "Submit",
       "layout": "IPY_MODEL_3f572e649f1a4493a3dfd7390826fd84",
       "style": "IPY_MODEL_a7f39e5b889e47d4b2473626d4f6e4d4"
      }
     },
     "8906f4d162fb46e6bd8306a61ba440ee": {
      "model_module": "@jupyter-widgets/controls",
      "model_module_version": "1.4.0",
      "model_name": "HTMLModel",
      "state": {
       "layout": "IPY_MODEL_8e6bdad5e97f40e0aded482b026ec8f4",
       "style": "IPY_MODEL_230580c1219d4d9b9d0868a0b4991118"
      }
     },
     "894a10ab3eec4d7f8611d0780c863b24": {
      "model_module": "@jupyter-widgets/controls",
      "model_module_version": "1.4.0",
      "model_name": "BoundedFloatTextModel",
      "state": {
       "layout": "IPY_MODEL_703c3088308c4b18b49192f711252198",
       "step": 1,
       "style": "IPY_MODEL_7ec974c44c574162a412d72c26849363",
       "value": 5
      }
     },
     "89e9fa4a1ceb43b9bc93e2cefeaf3db4": {
      "model_module": "@jupyter-widgets/controls",
      "model_module_version": "1.4.0",
      "model_name": "HTMLModel",
      "state": {
       "layout": "IPY_MODEL_86dc55938524490cb87d7830d885c425",
       "style": "IPY_MODEL_546d66ec97e8447285c6ccdb568218ff"
      }
     },
     "8a161caab0674241ad2302c590f9e47c": {
      "model_module": "@jupyter-widgets/base",
      "model_module_version": "1.1.0",
      "model_name": "LayoutModel",
      "state": {}
     },
     "8a40a57f3e164c04a0c5143c23152dcc": {
      "model_module": "@jupyter-widgets/controls",
      "model_module_version": "1.4.0",
      "model_name": "HBoxModel",
      "state": {
       "children": [
        "IPY_MODEL_557d8b4bb36f40e1b1b18becf0ab70cb",
        "IPY_MODEL_a7f9afcee9104e41be5907d432d0d623",
        "IPY_MODEL_800593dce4754f819dbd36edf446a548",
        "IPY_MODEL_951f7c3c36854f7083014aa77d5660d5"
       ],
       "layout": "IPY_MODEL_6b7502efabcd40caaa92d314c40b7a72"
      }
     },
     "8a586f48525b4b668abf1e07a69dc63b": {
      "model_module": "@jupyter-widgets/controls",
      "model_module_version": "1.4.0",
      "model_name": "DescriptionStyleModel",
      "state": {
       "description_width": ""
      }
     },
     "8b7c4d46a5124314804b58cd8d37289e": {
      "model_module": "@jupyter-widgets/base",
      "model_module_version": "1.1.0",
      "model_name": "LayoutModel",
      "state": {}
     },
     "8c535cd163724b55ae19f9094db519a8": {
      "model_module": "@jupyter-widgets/controls",
      "model_module_version": "1.4.0",
      "model_name": "DescriptionStyleModel",
      "state": {
       "description_width": ""
      }
     },
     "8dabfd9aaa764d8f99c3b25a7e5672e8": {
      "model_module": "@jupyter-widgets/controls",
      "model_module_version": "1.4.0",
      "model_name": "ButtonModel",
      "state": {
       "description": "Submit",
       "layout": "IPY_MODEL_11dbac8f67e54ccd82297b57f28b56a1",
       "style": "IPY_MODEL_727d0748a0344663bf2e3493fa0c764a"
      }
     },
     "8e6bdad5e97f40e0aded482b026ec8f4": {
      "model_module": "@jupyter-widgets/base",
      "model_module_version": "1.1.0",
      "model_name": "LayoutModel",
      "state": {}
     },
     "8ed6fba9523d4674af22c7ebe8f91d05": {
      "model_module": "@jupyter-widgets/controls",
      "model_module_version": "1.4.0",
      "model_name": "ValidModel",
      "state": {
       "layout": "IPY_MODEL_a39b5a285ff0420799494ec4d84266fe",
       "style": "IPY_MODEL_a1635aca3f114b8390249a3a953715e0",
       "value": true
      }
     },
     "9025ae46aaa64da9a8970c846ef0a9e2": {
      "model_module": "@jupyter-widgets/controls",
      "model_module_version": "1.4.0",
      "model_name": "ButtonStyleModel",
      "state": {}
     },
     "9030c3d1827747e8b20145d7716c0222": {
      "model_module": "@jupyter-widgets/controls",
      "model_module_version": "1.4.0",
      "model_name": "ValidModel",
      "state": {
       "layout": "IPY_MODEL_1e98335f4bca49e596493cd6ffc670af",
       "style": "IPY_MODEL_cdeb40dee6324649a8ea633a20882339",
       "value": true
      }
     },
     "925bf62bdf044844a63cd60717a97e44": {
      "model_module": "@jupyter-widgets/controls",
      "model_module_version": "1.4.0",
      "model_name": "VBoxModel",
      "state": {
       "children": [
        "IPY_MODEL_3da20d70a7a7402f86df5de735b2efa3",
        "IPY_MODEL_a7f9e6203a7a4b218db32909b51965c9"
       ],
       "layout": "IPY_MODEL_384b4d2f94d744749069877c4bf5d95b"
      }
     },
     "93e76e81c7d54c3ea9cdf6f37af8a766": {
      "model_module": "@jupyter-widgets/base",
      "model_module_version": "1.1.0",
      "model_name": "LayoutModel",
      "state": {}
     },
     "943fed81136a4178a2decda88a1f0e2b": {
      "model_module": "@jupyter-widgets/controls",
      "model_module_version": "1.4.0",
      "model_name": "DescriptionStyleModel",
      "state": {
       "description_width": ""
      }
     },
     "94c27eb8ba864c10b99e3c848846b5e7": {
      "model_module": "@jupyter-widgets/controls",
      "model_module_version": "1.4.0",
      "model_name": "ButtonModel",
      "state": {
       "description": "Submit",
       "layout": "IPY_MODEL_b1cc11134e7040989e4f69a2c548d891",
       "style": "IPY_MODEL_cbaa8971ddd5442791a5561430218742"
      }
     },
     "951b89a4d04c4a0dbc352c5e89e50c8b": {
      "model_module": "@jupyter-widgets/controls",
      "model_module_version": "1.4.0",
      "model_name": "ValidModel",
      "state": {
       "layout": "IPY_MODEL_62cae89853c54d7d9b9feaf6dabaa7e7",
       "style": "IPY_MODEL_608b3dc844ad4ccc846c1b5b0ea42a26",
       "value": true
      }
     },
     "951f7c3c36854f7083014aa77d5660d5": {
      "model_module": "@jupyter-widgets/controls",
      "model_module_version": "1.4.0",
      "model_name": "HTMLModel",
      "state": {
       "layout": "IPY_MODEL_b0ab712bf7ef4aa6bdd8f2655454c3f2",
       "style": "IPY_MODEL_81939521591e4f7f85cc0ef69ee68145"
      }
     },
     "95391c22c9344e7ba64ddc2bf870433e": {
      "model_module": "plotlywidget",
      "model_module_version": "^0.11.0",
      "model_name": "FigureModel",
      "state": {
       "_config": {
        "plotlyServerURL": "https://plot.ly"
       },
       "_data": [
        {
         "type": "scatter",
         "uid": "2719c616-8cd2-4408-b591-8cda2f17c071",
         "x": [
          10,
          20,
          50,
          100,
          200,
          500,
          1000,
          1500
         ],
         "y": [
          20.96598515849485,
          16.079962319178033,
          11.889736083015691,
          9.780018610798596,
          8.226923867139623,
          7.356944179259375,
          7.268476857339998,
          7.297809486986749
         ]
        }
       ],
       "_js2py_restyle": {},
       "_js2py_update": {},
       "_last_layout_edit_id": 2,
       "_last_trace_edit_id": 1,
       "_layout": {
        "autosize": true,
        "template": {}
       },
       "_py2js_animate": {},
       "_py2js_deleteTraces": {},
       "_py2js_moveTraces": {},
       "_py2js_removeLayoutProps": {},
       "_py2js_removeTraceProps": {},
       "_py2js_restyle": {},
       "_py2js_update": {},
       "_view_count": 0
      }
     },
     "9617cddb0fce4c26a92d2472f9bf65c5": {
      "model_module": "@jupyter-widgets/controls",
      "model_module_version": "1.4.0",
      "model_name": "HTMLModel",
      "state": {
       "layout": "IPY_MODEL_7bb271dab30c46e1918bc862db3dc0e7",
       "style": "IPY_MODEL_7f352a6a5a4142fd9a4e16a15f4d620d"
      }
     },
     "97060fe03d5c4384a56ccdd48b9057d6": {
      "model_module": "@jupyter-widgets/controls",
      "model_module_version": "1.4.0",
      "model_name": "ButtonModel",
      "state": {
       "description": "Submit",
       "layout": "IPY_MODEL_758c41e45633440287665891eaa1dd89",
       "style": "IPY_MODEL_01c82d90d14d4eaeb08fa11bd261c0b5"
      }
     },
     "9762a83161794331900a770542aa0961": {
      "model_module": "@jupyter-widgets/controls",
      "model_module_version": "1.4.0",
      "model_name": "HTMLModel",
      "state": {
       "layout": "IPY_MODEL_4cd5cc1c1a784b4fa793d171b6be7edd",
       "style": "IPY_MODEL_56af7f3b793148a39ba52c766947597c"
      }
     },
     "9784441bc53747dbbcd85f38e2645405": {
      "model_module": "@jupyter-widgets/controls",
      "model_module_version": "1.4.0",
      "model_name": "ButtonStyleModel",
      "state": {}
     },
     "98030cac5aa9447ead9197ee5141d98d": {
      "model_module": "@jupyter-widgets/base",
      "model_module_version": "1.1.0",
      "model_name": "LayoutModel",
      "state": {}
     },
     "99cf65f6315f449996232dee6f535750": {
      "model_module": "@jupyter-widgets/controls",
      "model_module_version": "1.4.0",
      "model_name": "HBoxModel",
      "state": {
       "children": [
        "IPY_MODEL_c003c74e49b84a9795dcf2c5580e5d66",
        "IPY_MODEL_528f346f3d554c948cb9d35995c1831c",
        "IPY_MODEL_c57ea4e66e9c4dd18de4b155ad72a158",
        "IPY_MODEL_b4af1992d2564b7a92234fb47d98f6ca"
       ],
       "layout": "IPY_MODEL_2cf33801e75b4005b7ca982b2dad380d"
      }
     },
     "9a3a1e8925e540f88dad88fc685cf826": {
      "model_module": "@jupyter-widgets/base",
      "model_module_version": "1.1.0",
      "model_name": "LayoutModel",
      "state": {}
     },
     "9ab98b975e1a45c89ba0c64d2a162de9": {
      "model_module": "@jupyter-widgets/base",
      "model_module_version": "1.1.0",
      "model_name": "LayoutModel",
      "state": {}
     },
     "9b7bf745a6d4494592ae692e7eea23de": {
      "model_module": "@jupyter-widgets/controls",
      "model_module_version": "1.4.0",
      "model_name": "DescriptionStyleModel",
      "state": {
       "description_width": ""
      }
     },
     "9bf295936b294d89ab7afce2e05832a6": {
      "model_module": "@jupyter-widgets/base",
      "model_module_version": "1.1.0",
      "model_name": "LayoutModel",
      "state": {}
     },
     "9cf880ef1514441fa12732e59715a950": {
      "model_module": "@jupyter-widgets/base",
      "model_module_version": "1.1.0",
      "model_name": "LayoutModel",
      "state": {}
     },
     "9d277a44fd874bdc9ddcb7a15667f9b2": {
      "model_module": "@jupyter-widgets/controls",
      "model_module_version": "1.4.0",
      "model_name": "DescriptionStyleModel",
      "state": {
       "description_width": ""
      }
     },
     "9e4cee26e3904518a91549275522bfe0": {
      "model_module": "@jupyter-widgets/controls",
      "model_module_version": "1.4.0",
      "model_name": "HTMLModel",
      "state": {
       "layout": "IPY_MODEL_46e0985ef8cb41bea876a85fdc9f7e04",
       "style": "IPY_MODEL_a666334b9c054431901b3f9b4c32c691"
      }
     },
     "9e7e68c5bf434a0dbc7dc4b0b7ede084": {
      "model_module": "@jupyter-widgets/controls",
      "model_module_version": "1.4.0",
      "model_name": "DescriptionStyleModel",
      "state": {
       "description_width": ""
      }
     },
     "9fd4260912744658acb273480f0d6fa2": {
      "model_module": "@jupyter-widgets/base",
      "model_module_version": "1.1.0",
      "model_name": "LayoutModel",
      "state": {}
     },
     "a025a80a634141a0b86508867292313c": {
      "model_module": "@jupyter-widgets/base",
      "model_module_version": "1.1.0",
      "model_name": "LayoutModel",
      "state": {}
     },
     "a04dab93624d4103868b06b0ad64d0fa": {
      "model_module": "@jupyter-widgets/controls",
      "model_module_version": "1.4.0",
      "model_name": "ButtonStyleModel",
      "state": {}
     },
     "a1635aca3f114b8390249a3a953715e0": {
      "model_module": "@jupyter-widgets/controls",
      "model_module_version": "1.4.0",
      "model_name": "DescriptionStyleModel",
      "state": {
       "description_width": ""
      }
     },
     "a2186d4ec06d4b0ea12ff45593bdddd7": {
      "model_module": "@jupyter-widgets/controls",
      "model_module_version": "1.4.0",
      "model_name": "ValidModel",
      "state": {
       "layout": "IPY_MODEL_e06d8273fe8f4a0085f3921604928bc6",
       "style": "IPY_MODEL_5fe45b65aa56468fa8e0d68817ab8d32",
       "value": true
      }
     },
     "a23a66f44a7c4e0b8295d07a47f339ec": {
      "model_module": "@jupyter-widgets/controls",
      "model_module_version": "1.4.0",
      "model_name": "LabelModel",
      "state": {
       "layout": "IPY_MODEL_b0a07189f6384c5ca03f08e29ab8639d",
       "style": "IPY_MODEL_e4eb98ece90c4905832a45183bc6924f",
       "value": "Target Risk (%):"
      }
     },
     "a27747acf240443aa7614552a4335098": {
      "model_module": "@jupyter-widgets/controls",
      "model_module_version": "1.4.0",
      "model_name": "ButtonModel",
      "state": {
       "description": "Submit",
       "layout": "IPY_MODEL_ec339a3db06f44b7a9a482ba8c4bf29c",
       "style": "IPY_MODEL_a04dab93624d4103868b06b0ad64d0fa"
      }
     },
     "a29501462a4044e79a755e407e938636": {
      "model_module": "@jupyter-widgets/base",
      "model_module_version": "1.1.0",
      "model_name": "LayoutModel",
      "state": {}
     },
     "a34777a7e9d14c8aa07bacc1bf606cba": {
      "model_module": "@jupyter-widgets/base",
      "model_module_version": "1.1.0",
      "model_name": "LayoutModel",
      "state": {}
     },
     "a38d43302a114a7f88c7a57d97d915a5": {
      "model_module": "@jupyter-widgets/base",
      "model_module_version": "1.1.0",
      "model_name": "LayoutModel",
      "state": {}
     },
     "a39b5a285ff0420799494ec4d84266fe": {
      "model_module": "@jupyter-widgets/base",
      "model_module_version": "1.1.0",
      "model_name": "LayoutModel",
      "state": {}
     },
     "a3db4e20ac9342448cc09773f1b87553": {
      "model_module": "@jupyter-widgets/base",
      "model_module_version": "1.1.0",
      "model_name": "LayoutModel",
      "state": {}
     },
     "a44fd0e961084be8b41150bab64f241a": {
      "model_module": "@jupyter-widgets/controls",
      "model_module_version": "1.4.0",
      "model_name": "ButtonModel",
      "state": {
       "description": "Submit",
       "layout": "IPY_MODEL_431485e1b3884eb8983af3c58e674804",
       "style": "IPY_MODEL_f9a52fe7e3774069ba87b21b888e8343"
      }
     },
     "a47a51409b0845a8b073a3ea984d1355": {
      "model_module": "@jupyter-widgets/controls",
      "model_module_version": "1.4.0",
      "model_name": "HTMLModel",
      "state": {
       "layout": "IPY_MODEL_b0cfb346978a45eba3a4c986a9e8dea9",
       "style": "IPY_MODEL_42fd796b8766450bb6033e1b689b0d12"
      }
     },
     "a57c0a75feae443896da7fbb19c9928d": {
      "buffers": [
       {
        "data": "AAAAAAEAAAACAAAAAwAAAAQAAAAFAAAABgAAAAcAAAA=",
        "encoding": "base64",
        "path": [
         "_data",
         0,
         "x",
         "value"
        ]
       },
       {
        "data": "AAAAAAEAAAACAAAAAwAAAAQAAAAFAAAABgAAAAcAAAA=",
        "encoding": "base64",
        "path": [
         "_data",
         1,
         "x",
         "value"
        ]
       },
       {
        "data": "AAAAAAEAAAACAAAAAwAAAAQAAAAFAAAABgAAAAcAAAA=",
        "encoding": "base64",
        "path": [
         "_data",
         2,
         "x",
         "value"
        ]
       },
       {
        "data": "AAAAAAEAAAACAAAAAwAAAAQAAAAFAAAABgAAAAcAAAA=",
        "encoding": "base64",
        "path": [
         "_data",
         3,
         "x",
         "value"
        ]
       },
       {
        "data": "AAAAAAEAAAACAAAAAwAAAAQAAAAFAAAABgAAAAcAAAA=",
        "encoding": "base64",
        "path": [
         "_data",
         4,
         "x",
         "value"
        ]
       }
      ],
      "model_module": "plotlywidget",
      "model_module_version": "^0.11.0",
      "model_name": "FigureModel",
      "state": {
       "_config": {
        "plotlyServerURL": "https://plot.ly"
       },
       "_data": [
        {
         "type": "scatter",
         "uid": "d6406ae8-1dca-49e9-a3fe-c59b0682f437",
         "x": {
          "dtype": "int32",
          "shape": [
           8
          ]
         },
         "y": [
          20.96598515849485,
          16.079962319178033,
          11.889736083015691,
          9.780018610798596,
          8.226923867139623,
          7.356944179259375,
          7.268476857339998,
          7.297809486986749
         ]
        },
        {
         "type": "scatter",
         "uid": "51dd737d-2ae8-48a1-b620-6e41b7e46ae9",
         "x": {
          "dtype": "int32",
          "shape": [
           8
          ]
         },
         "y": [
          20.96598515849485,
          16.079962319178033,
          11.889736083015691,
          9.780018610798596,
          8.226923867139623,
          7.356944179259375,
          7.268476857339998,
          7.297809486986749
         ]
        },
        {
         "type": "scatter",
         "uid": "9015ffbb-d632-4d7e-9a65-701d847fe19b",
         "x": {
          "dtype": "int32",
          "shape": [
           8
          ]
         },
         "y": [
          20.96598515849485,
          16.079962319178033,
          11.889736083015691,
          9.780018610798596,
          8.226923867139623,
          7.356944179259375,
          7.268476857339998,
          7.297809486986749
         ]
        },
        {
         "type": "scatter",
         "uid": "ca8adc09-5b8a-4c88-9e1f-182784bccb9d",
         "x": {
          "dtype": "int32",
          "shape": [
           8
          ]
         },
         "y": [
          20.96598515849485,
          16.079962319178033,
          11.889736083015691,
          9.780018610798596,
          8.226923867139623,
          7.356944179259375,
          7.268476857339998,
          7.297809486986749
         ]
        },
        {
         "type": "scatter",
         "uid": "bab1bdab-cfda-46cc-b62f-66635b0b09c0",
         "x": {
          "dtype": "int32",
          "shape": [
           8
          ]
         },
         "y": [
          20.96598515849485,
          16.079962319178033,
          11.889736083015691,
          9.780018610798596,
          8.226923867139623,
          7.356944179259375,
          7.268476857339998,
          7.297809486986749
         ]
        }
       ],
       "_js2py_restyle": {},
       "_js2py_update": {},
       "_last_layout_edit_id": 6,
       "_last_trace_edit_id": 5,
       "_layout": {
        "autosize": true,
        "template": {}
       },
       "_py2js_animate": {},
       "_py2js_deleteTraces": {},
       "_py2js_moveTraces": {},
       "_py2js_removeLayoutProps": {},
       "_py2js_removeTraceProps": {},
       "_py2js_restyle": {},
       "_py2js_update": {},
       "_view_count": 0
      }
     },
     "a5b1dae496414722b3f42a7336537ab0": {
      "model_module": "plotlywidget",
      "model_module_version": "^0.11.0",
      "model_name": "FigureModel",
      "state": {
       "_config": {
        "plotlyServerURL": "https://plot.ly"
       },
       "_js2py_pointsCallback": {},
       "_js2py_restyle": {},
       "_js2py_update": {},
       "_last_layout_edit_id": 1,
       "_layout": {
        "autosize": true,
        "template": {}
       },
       "_py2js_addTraces": {},
       "_py2js_animate": {},
       "_py2js_deleteTraces": {},
       "_py2js_moveTraces": {},
       "_py2js_removeLayoutProps": {},
       "_py2js_removeTraceProps": {},
       "_py2js_restyle": {},
       "_py2js_update": {},
       "_view_count": 0
      }
     },
     "a5b71b8ccaf0474dbf570afddca2dc07": {
      "model_module": "@jupyter-widgets/controls",
      "model_module_version": "1.4.0",
      "model_name": "DescriptionStyleModel",
      "state": {
       "description_width": ""
      }
     },
     "a5be05da1e11420fa234e266714912a7": {
      "model_module": "@jupyter-widgets/controls",
      "model_module_version": "1.4.0",
      "model_name": "DescriptionStyleModel",
      "state": {
       "description_width": ""
      }
     },
     "a666334b9c054431901b3f9b4c32c691": {
      "model_module": "@jupyter-widgets/controls",
      "model_module_version": "1.4.0",
      "model_name": "DescriptionStyleModel",
      "state": {
       "description_width": ""
      }
     },
     "a7789a5b76424e1ab2c242ecdf011937": {
      "model_module": "@jupyter-widgets/base",
      "model_module_version": "1.1.0",
      "model_name": "LayoutModel",
      "state": {}
     },
     "a78486a94e8a4e6baa4ab30fb525cb5d": {
      "model_module": "@jupyter-widgets/base",
      "model_module_version": "1.1.0",
      "model_name": "LayoutModel",
      "state": {}
     },
     "a7f39e5b889e47d4b2473626d4f6e4d4": {
      "model_module": "@jupyter-widgets/controls",
      "model_module_version": "1.4.0",
      "model_name": "ButtonStyleModel",
      "state": {}
     },
     "a7f9afcee9104e41be5907d432d0d623": {
      "model_module": "@jupyter-widgets/controls",
      "model_module_version": "1.4.0",
      "model_name": "ButtonModel",
      "state": {
       "description": "Submit",
       "layout": "IPY_MODEL_4b6f6dfb8ab34b9993ace26b3d681f1b",
       "style": "IPY_MODEL_cce60a6c60e741f797d86df2d0b93cd7"
      }
     },
     "a7f9e6203a7a4b218db32909b51965c9": {
      "model_module": "plotlywidget",
      "model_module_version": "^0.11.0",
      "model_name": "FigureModel",
      "state": {
       "_config": {
        "plotlyServerURL": "https://plot.ly"
       },
       "_data": [
        {
         "type": "scatter",
         "uid": "e402cd9d-f635-422f-a079-da9e57400cf3",
         "x": [
          10,
          20,
          50,
          100,
          200,
          500,
          1000,
          1500
         ],
         "y": [
          20.96598515849485,
          16.079962319178033,
          11.889736083015691,
          9.780018610798596,
          8.226923867139623,
          7.356944179259375,
          7.268476857339998,
          7.297809486986749
         ]
        }
       ],
       "_js2py_restyle": {},
       "_js2py_update": {},
       "_last_layout_edit_id": 8,
       "_last_trace_edit_id": 7,
       "_layout": {
        "autosize": true,
        "template": {}
       },
       "_py2js_animate": {},
       "_py2js_moveTraces": {},
       "_py2js_removeLayoutProps": {},
       "_py2js_removeTraceProps": {},
       "_py2js_restyle": {},
       "_py2js_update": {},
       "_view_count": 0
      }
     },
     "a8d7db5aa25f40959e6244d0e2c94b74": {
      "model_module": "@jupyter-widgets/base",
      "model_module_version": "1.1.0",
      "model_name": "LayoutModel",
      "state": {}
     },
     "a93253dda852403691b07a6a8288a4c4": {
      "model_module": "plotlywidget",
      "model_module_version": "^0.11.0",
      "model_name": "FigureModel",
      "state": {
       "_config": {
        "plotlyServerURL": "https://plot.ly"
       },
       "_js2py_pointsCallback": {},
       "_js2py_restyle": {},
       "_js2py_update": {},
       "_last_layout_edit_id": 2,
       "_layout": {
        "autosize": true,
        "template": {},
        "title": {
         "text": "Recommended Discount Rate for Risk Probablity=5.0%"
        }
       },
       "_py2js_addTraces": {},
       "_py2js_animate": {},
       "_py2js_deleteTraces": {},
       "_py2js_moveTraces": {},
       "_py2js_removeLayoutProps": {},
       "_py2js_removeTraceProps": {},
       "_py2js_restyle": {},
       "_py2js_update": {},
       "_view_count": 0
      }
     },
     "aaf8130b8a044b02afddd120085e35ff": {
      "model_module": "@jupyter-widgets/base",
      "model_module_version": "1.1.0",
      "model_name": "LayoutModel",
      "state": {}
     },
     "abb24fc7976e407eb74ae11d94e0e6dd": {
      "model_module": "@jupyter-widgets/base",
      "model_module_version": "1.1.0",
      "model_name": "LayoutModel",
      "state": {}
     },
     "abe7f9102aec434095a26c402c4f373e": {
      "model_module": "@jupyter-widgets/base",
      "model_module_version": "1.1.0",
      "model_name": "LayoutModel",
      "state": {}
     },
     "abf6a8aab7fd41fc9b335412f7e57624": {
      "model_module": "@jupyter-widgets/controls",
      "model_module_version": "1.4.0",
      "model_name": "ButtonModel",
      "state": {
       "description": "Submit",
       "layout": "IPY_MODEL_9a3a1e8925e540f88dad88fc685cf826",
       "style": "IPY_MODEL_48e9d8f63dc84af9ac8339ada85728c1"
      }
     },
     "ac00ba68efbe4ee6a70ddc20e95748e3": {
      "model_module": "@jupyter-widgets/controls",
      "model_module_version": "1.4.0",
      "model_name": "DescriptionStyleModel",
      "state": {
       "description_width": ""
      }
     },
     "ad9b5033a5a84d6d8d28e6f20f121e8e": {
      "model_module": "@jupyter-widgets/base",
      "model_module_version": "1.1.0",
      "model_name": "LayoutModel",
      "state": {}
     },
     "ae30115f837a4bcc883c8a90cb5a9f97": {
      "model_module": "@jupyter-widgets/controls",
      "model_module_version": "1.4.0",
      "model_name": "DescriptionStyleModel",
      "state": {
       "description_width": ""
      }
     },
     "ae597ba2a9294482990404e056af850d": {
      "model_module": "@jupyter-widgets/base",
      "model_module_version": "1.1.0",
      "model_name": "LayoutModel",
      "state": {}
     },
     "af43fa0554b54fdc89a9c5f428e4fe4a": {
      "model_module": "@jupyter-widgets/base",
      "model_module_version": "1.1.0",
      "model_name": "LayoutModel",
      "state": {}
     },
     "b0a07189f6384c5ca03f08e29ab8639d": {
      "model_module": "@jupyter-widgets/base",
      "model_module_version": "1.1.0",
      "model_name": "LayoutModel",
      "state": {}
     },
     "b0ab712bf7ef4aa6bdd8f2655454c3f2": {
      "model_module": "@jupyter-widgets/base",
      "model_module_version": "1.1.0",
      "model_name": "LayoutModel",
      "state": {}
     },
     "b0be45f21fc54f0f859ca6f542d14287": {
      "model_module": "@jupyter-widgets/controls",
      "model_module_version": "1.4.0",
      "model_name": "ButtonStyleModel",
      "state": {}
     },
     "b0cfb346978a45eba3a4c986a9e8dea9": {
      "model_module": "@jupyter-widgets/base",
      "model_module_version": "1.1.0",
      "model_name": "LayoutModel",
      "state": {}
     },
     "b1cc11134e7040989e4f69a2c548d891": {
      "model_module": "@jupyter-widgets/base",
      "model_module_version": "1.1.0",
      "model_name": "LayoutModel",
      "state": {}
     },
     "b43b6a9a7ff84be1a6b29277d2f43d72": {
      "model_module": "@jupyter-widgets/base",
      "model_module_version": "1.1.0",
      "model_name": "LayoutModel",
      "state": {}
     },
     "b47a978932ac44278921a30ccc956f6f": {
      "model_module": "@jupyter-widgets/controls",
      "model_module_version": "1.4.0",
      "model_name": "BoundedFloatTextModel",
      "state": {
       "layout": "IPY_MODEL_1e061b88654941a6ae69e855b879ea67",
       "step": 1,
       "style": "IPY_MODEL_fd635f77a87744d4a3fa3f1bed09440c",
       "value": 4
      }
     },
     "b47fa4ee4896482290c8dc427c7017f9": {
      "model_module": "@jupyter-widgets/controls",
      "model_module_version": "1.4.0",
      "model_name": "DescriptionStyleModel",
      "state": {
       "description_width": ""
      }
     },
     "b4a10bbbf898499986c1c1ec5fe9e8e7": {
      "model_module": "@jupyter-widgets/base",
      "model_module_version": "1.1.0",
      "model_name": "LayoutModel",
      "state": {}
     },
     "b4af1992d2564b7a92234fb47d98f6ca": {
      "model_module": "@jupyter-widgets/controls",
      "model_module_version": "1.4.0",
      "model_name": "ValidModel",
      "state": {
       "layout": "IPY_MODEL_5cba21cd4587437c9a1a07857fb8c2ac",
       "style": "IPY_MODEL_51ad18d981e347b2b778117208f87349",
       "value": true
      }
     },
     "b4d6773adfeb4b3fab04f2f3f8c204d6": {
      "model_module": "@jupyter-widgets/controls",
      "model_module_version": "1.4.0",
      "model_name": "HTMLModel",
      "state": {
       "layout": "IPY_MODEL_174178a2f93f49aaa7d6d4f1293dfb2c",
       "style": "IPY_MODEL_6038c7c934164c059bc5c87e758fa169"
      }
     },
     "b6eb70c90f0f4f0190bf07beb71e9325": {
      "model_module": "@jupyter-widgets/controls",
      "model_module_version": "1.4.0",
      "model_name": "VBoxModel",
      "state": {
       "children": [
        "IPY_MODEL_ed1e880a6468446797c6c1cd45e305c9",
        "IPY_MODEL_b4d6773adfeb4b3fab04f2f3f8c204d6"
       ],
       "layout": "IPY_MODEL_4b00e5b8c4ef4c468bfc3776f3a455aa"
      }
     },
     "b8ae68d4ed4d42a8bbcbc23cfd81a4fc": {
      "model_module": "@jupyter-widgets/base",
      "model_module_version": "1.1.0",
      "model_name": "LayoutModel",
      "state": {}
     },
     "b9bebb95d44f463097615145fc33152a": {
      "model_module": "@jupyter-widgets/controls",
      "model_module_version": "1.4.0",
      "model_name": "DescriptionStyleModel",
      "state": {
       "description_width": ""
      }
     },
     "ba6994728c1e45ce9daee706dcac910d": {
      "model_module": "@jupyter-widgets/controls",
      "model_module_version": "1.4.0",
      "model_name": "DescriptionStyleModel",
      "state": {
       "description_width": ""
      }
     },
     "ba75a788aa73467abbba4f5653ec38b2": {
      "model_module": "@jupyter-widgets/base",
      "model_module_version": "1.1.0",
      "model_name": "LayoutModel",
      "state": {}
     },
     "bbb90ce49a794dd0ac4831f75c3b254e": {
      "model_module": "@jupyter-widgets/base",
      "model_module_version": "1.1.0",
      "model_name": "LayoutModel",
      "state": {}
     },
     "bbc3afbf2e39479db652c04075ef57a9": {
      "model_module": "@jupyter-widgets/base",
      "model_module_version": "1.1.0",
      "model_name": "LayoutModel",
      "state": {}
     },
     "bc64b6c917974761949184de5ee92c9c": {
      "model_module": "@jupyter-widgets/controls",
      "model_module_version": "1.4.0",
      "model_name": "VBoxModel",
      "state": {
       "children": [
        "IPY_MODEL_5ad11c0e0c3c4cb097a070e03a4d8f55",
        "IPY_MODEL_07d9c4f3e5ae4e52975d3e1ebe58574c"
       ],
       "layout": "IPY_MODEL_c75a27e7fe6d4184aaff42d44de604d7"
      }
     },
     "bcaad0510d54468fb070673789a94e29": {
      "model_module": "@jupyter-widgets/controls",
      "model_module_version": "1.4.0",
      "model_name": "ButtonStyleModel",
      "state": {}
     },
     "bd4dde66f77743a2ad541c5c2734d1a5": {
      "model_module": "plotlywidget",
      "model_module_version": "^0.11.0",
      "model_name": "FigureModel",
      "state": {
       "_config": {
        "plotlyServerURL": "https://plot.ly"
       },
       "_js2py_layoutDelta": {},
       "_js2py_pointsCallback": {},
       "_js2py_relayout": {},
       "_js2py_restyle": {},
       "_js2py_traceDeltas": {},
       "_js2py_update": {},
       "_layout": {
        "template": {}
       },
       "_py2js_addTraces": {},
       "_py2js_animate": {},
       "_py2js_deleteTraces": {},
       "_py2js_moveTraces": {},
       "_py2js_removeLayoutProps": {},
       "_py2js_removeTraceProps": {},
       "_py2js_restyle": {},
       "_py2js_update": {},
       "_view_count": 0
      }
     },
     "bdd62380b17341e0b932821da7903985": {
      "model_module": "@jupyter-widgets/base",
      "model_module_version": "1.1.0",
      "model_name": "LayoutModel",
      "state": {}
     },
     "bde0f816a2864f648261056afcfebcda": {
      "model_module": "@jupyter-widgets/base",
      "model_module_version": "1.1.0",
      "model_name": "LayoutModel",
      "state": {}
     },
     "be6391f2e3b3437e9965f953aa3795ce": {
      "model_module": "@jupyter-widgets/controls",
      "model_module_version": "1.4.0",
      "model_name": "DescriptionStyleModel",
      "state": {
       "description_width": ""
      }
     },
     "be7c5f44aed24a978da06ca612ad9c2b": {
      "model_module": "@jupyter-widgets/base",
      "model_module_version": "1.1.0",
      "model_name": "LayoutModel",
      "state": {}
     },
     "bf3b2e462595456f91b64ec7fc99b5d3": {
      "model_module": "@jupyter-widgets/base",
      "model_module_version": "1.1.0",
      "model_name": "LayoutModel",
      "state": {}
     },
     "bf4af2914da34d9c967dcdcac2f38511": {
      "model_module": "@jupyter-widgets/base",
      "model_module_version": "1.1.0",
      "model_name": "LayoutModel",
      "state": {}
     },
     "bff7700dd7944124a92f065687a1e9c2": {
      "model_module": "@jupyter-widgets/controls",
      "model_module_version": "1.4.0",
      "model_name": "HBoxModel",
      "state": {
       "children": [
        "IPY_MODEL_829722618b964dbeb30ccb1cbe42caf3",
        "IPY_MODEL_3a9a8be361454c218283d9fd63e0ab21",
        "IPY_MODEL_731e107c8238460eb62a533d5c4e8213",
        "IPY_MODEL_61f2465acf9a4f51ac6ca53ccd4f235e"
       ],
       "layout": "IPY_MODEL_71b51519afe44054bc8e7cf045023670"
      }
     },
     "c003c74e49b84a9795dcf2c5580e5d66": {
      "model_module": "@jupyter-widgets/controls",
      "model_module_version": "1.4.0",
      "model_name": "LabelModel",
      "state": {
       "layout": "IPY_MODEL_b8ae68d4ed4d42a8bbcbc23cfd81a4fc",
       "style": "IPY_MODEL_0d053f814c2a4f27876d63984317696c",
       "value": "Target Risk Probability (%):"
      }
     },
     "c0108b0e803c4fe89dab60b6e07b902b": {
      "model_module": "@jupyter-widgets/base",
      "model_module_version": "1.1.0",
      "model_name": "LayoutModel",
      "state": {}
     },
     "c0885798e3954c17a75ca6430b1d5980": {
      "model_module": "@jupyter-widgets/base",
      "model_module_version": "1.1.0",
      "model_name": "LayoutModel",
      "state": {}
     },
     "c0a847638729498796df8957cec91f0b": {
      "model_module": "@jupyter-widgets/base",
      "model_module_version": "1.1.0",
      "model_name": "LayoutModel",
      "state": {}
     },
     "c36064f757d24c37a5f067b8dcde7ca5": {
      "model_module": "@jupyter-widgets/controls",
      "model_module_version": "1.4.0",
      "model_name": "DescriptionStyleModel",
      "state": {
       "description_width": ""
      }
     },
     "c3753404db1048bfa5281551f8f10223": {
      "model_module": "@jupyter-widgets/controls",
      "model_module_version": "1.4.0",
      "model_name": "DescriptionStyleModel",
      "state": {
       "description_width": ""
      }
     },
     "c40dd735fb3d43f39c63474799cd5e32": {
      "model_module": "@jupyter-widgets/controls",
      "model_module_version": "1.4.0",
      "model_name": "VBoxModel",
      "state": {
       "children": [
        "IPY_MODEL_dd470dc980964021b4057048ce301684",
        "IPY_MODEL_cc1b5eb772d246648eaa796b94c751a7"
       ],
       "layout": "IPY_MODEL_5aabff1b1056472eb0c20f02080943dd"
      }
     },
     "c471dc387c284dd28794614e47812506": {
      "model_module": "@jupyter-widgets/controls",
      "model_module_version": "1.4.0",
      "model_name": "LabelModel",
      "state": {
       "layout": "IPY_MODEL_a29501462a4044e79a755e407e938636",
       "style": "IPY_MODEL_76c5a98bb54a450c9a33973c6d31d28f",
       "value": "Target Risk Probability (%):"
      }
     },
     "c511b610a9644b54b47864c672f20236": {
      "model_module": "@jupyter-widgets/base",
      "model_module_version": "1.1.0",
      "model_name": "LayoutModel",
      "state": {}
     },
     "c56c6e09ed254c85a46c2e9030182abf": {
      "model_module": "@jupyter-widgets/controls",
      "model_module_version": "1.4.0",
      "model_name": "HBoxModel",
      "state": {
       "children": [
        "IPY_MODEL_44d2196700fb4998a85eca471a46299c",
        "IPY_MODEL_fcc4f83e00174faea96a1b4578233c4f",
        "IPY_MODEL_6d687a42116a451187edf1803c4d0256",
        "IPY_MODEL_f2642e9460954e23b7140998e98a754f"
       ],
       "layout": "IPY_MODEL_d7f3f203a1ab419e9e8292133482b7a3"
      }
     },
     "c57ea4e66e9c4dd18de4b155ad72a158": {
      "model_module": "@jupyter-widgets/controls",
      "model_module_version": "1.4.0",
      "model_name": "ButtonModel",
      "state": {
       "description": "Submit",
       "layout": "IPY_MODEL_22f86d0f17b548c788bda3fbf0e502b8",
       "style": "IPY_MODEL_5d3dd73732e24b879daa41c4387b4297"
      }
     },
     "c6410a2a2a5344fe82623078e605609a": {
      "model_module": "@jupyter-widgets/controls",
      "model_module_version": "1.4.0",
      "model_name": "DescriptionStyleModel",
      "state": {
       "description_width": ""
      }
     },
     "c676dcabbd154a29b4caefe15c894360": {
      "model_module": "@jupyter-widgets/base",
      "model_module_version": "1.1.0",
      "model_name": "LayoutModel",
      "state": {}
     },
     "c6ce82db366847779ba1f00f36c09a1b": {
      "model_module": "@jupyter-widgets/controls",
      "model_module_version": "1.4.0",
      "model_name": "HBoxModel",
      "state": {
       "children": [
        "IPY_MODEL_c471dc387c284dd28794614e47812506",
        "IPY_MODEL_4da5044e11f3490aadb96d37432f2053",
        "IPY_MODEL_da54263b13d14421923f87dcda51166f",
        "IPY_MODEL_621952efbfcc42249451cdc72662c2bf"
       ],
       "layout": "IPY_MODEL_d871a4fe3e794995ae04847657ea77d2"
      }
     },
     "c701075651c44aef84146e347636059e": {
      "model_module": "@jupyter-widgets/controls",
      "model_module_version": "1.4.0",
      "model_name": "ButtonModel",
      "state": {
       "description": "Submit",
       "layout": "IPY_MODEL_b4a10bbbf898499986c1c1ec5fe9e8e7",
       "style": "IPY_MODEL_465a177bb28e4184bf40dd2a2d18274a"
      }
     },
     "c731e6ba1b684159bc6868ddf8a95e9d": {
      "model_module": "@jupyter-widgets/controls",
      "model_module_version": "1.4.0",
      "model_name": "HTMLModel",
      "state": {
       "layout": "IPY_MODEL_a34777a7e9d14c8aa07bacc1bf606cba",
       "style": "IPY_MODEL_8a586f48525b4b668abf1e07a69dc63b"
      }
     },
     "c75a27e7fe6d4184aaff42d44de604d7": {
      "model_module": "@jupyter-widgets/base",
      "model_module_version": "1.1.0",
      "model_name": "LayoutModel",
      "state": {}
     },
     "c8be1b66ccd746ad99b43085bb544da6": {
      "model_module": "@jupyter-widgets/base",
      "model_module_version": "1.1.0",
      "model_name": "LayoutModel",
      "state": {}
     },
     "c8e15a64820742689422d432eb519090": {
      "model_module": "@jupyter-widgets/base",
      "model_module_version": "1.1.0",
      "model_name": "LayoutModel",
      "state": {}
     },
     "c9140b07db824dfeb53c1cc6f6822b61": {
      "model_module": "@jupyter-widgets/controls",
      "model_module_version": "1.4.0",
      "model_name": "BoundedFloatTextModel",
      "state": {
       "description": "Probability of Risk (%):",
       "layout": "IPY_MODEL_642db7082bea4eb3a6685ae7bd5f3479",
       "step": 1,
       "style": "IPY_MODEL_fb1c3a11aae245ce8c9300446fe49d29",
       "value": 5
      }
     },
     "c9c91f520e26450f9e1c86ee0c827c70": {
      "model_module": "@jupyter-widgets/base",
      "model_module_version": "1.1.0",
      "model_name": "LayoutModel",
      "state": {}
     },
     "c9dc4d218be44ba2abbeca15b2d48a36": {
      "model_module": "@jupyter-widgets/controls",
      "model_module_version": "1.4.0",
      "model_name": "ButtonStyleModel",
      "state": {}
     },
     "c9eb56c9082843d3a2a2a0985829ff44": {
      "model_module": "@jupyter-widgets/base",
      "model_module_version": "1.1.0",
      "model_name": "LayoutModel",
      "state": {}
     },
     "ca0be025441c4488b25904923ec84648": {
      "model_module": "@jupyter-widgets/controls",
      "model_module_version": "1.4.0",
      "model_name": "ValidModel",
      "state": {
       "layout": "IPY_MODEL_fb5ac471a0d541c886b8c304c6f3e7d2",
       "style": "IPY_MODEL_43f65ed4922c4507ae9090e177b8085b",
       "value": true
      }
     },
     "ca9fc2c8852142b789137a7603d699fd": {
      "model_module": "@jupyter-widgets/controls",
      "model_module_version": "1.4.0",
      "model_name": "LabelModel",
      "state": {
       "layout": "IPY_MODEL_c8be1b66ccd746ad99b43085bb544da6",
       "style": "IPY_MODEL_f55fe2ff42144a31a77a65446a6b4cbe",
       "value": "Target Risk Probability (%):"
      }
     },
     "cad0c2f882814d8b865a6c412f9f930f": {
      "model_module": "@jupyter-widgets/controls",
      "model_module_version": "1.4.0",
      "model_name": "HBoxModel",
      "state": {
       "children": [
        "IPY_MODEL_846abc69d30646dc913f8d79656b677d",
        "IPY_MODEL_3d9e16ba0a1340299e69cb9608e50574",
        "IPY_MODEL_a2186d4ec06d4b0ea12ff45593bdddd7",
        "IPY_MODEL_57eb650b613849918627000fd6ebf851"
       ],
       "layout": "IPY_MODEL_009c4398b96444149134886e82ae5023"
      }
     },
     "cb3b2b8a6e734dc4b5ee246490bda875": {
      "model_module": "@jupyter-widgets/controls",
      "model_module_version": "1.4.0",
      "model_name": "ButtonModel",
      "state": {
       "description": "Submit",
       "layout": "IPY_MODEL_fa5780344f9147af82a32edfed78025b",
       "style": "IPY_MODEL_73c945cefa5c4fb2b1364b3078640c76"
      }
     },
     "cb77dd814bce49dcb6b674abc2736b35": {
      "model_module": "@jupyter-widgets/controls",
      "model_module_version": "1.4.0",
      "model_name": "DescriptionStyleModel",
      "state": {
       "description_width": ""
      }
     },
     "cbaa8971ddd5442791a5561430218742": {
      "model_module": "@jupyter-widgets/controls",
      "model_module_version": "1.4.0",
      "model_name": "ButtonStyleModel",
      "state": {}
     },
     "cc1b5eb772d246648eaa796b94c751a7": {
      "model_module": "plotlywidget",
      "model_module_version": "^0.11.0",
      "model_name": "FigureModel",
      "state": {
       "_config": {
        "plotlyServerURL": "https://plot.ly"
       },
       "_js2py_pointsCallback": {},
       "_js2py_restyle": {},
       "_js2py_update": {},
       "_last_layout_edit_id": 3,
       "_layout": {
        "autosize": true,
        "template": {},
        "title": {
         "text": "Recommended Discount Rate for Risk Probablity=5.0%"
        },
        "xaxis": {
         "title": {
          "text": "Wells Package Size"
         }
        }
       },
       "_py2js_addTraces": {},
       "_py2js_animate": {},
       "_py2js_deleteTraces": {},
       "_py2js_moveTraces": {},
       "_py2js_removeLayoutProps": {},
       "_py2js_removeTraceProps": {},
       "_py2js_restyle": {},
       "_py2js_update": {},
       "_view_count": 0
      }
     },
     "cc42cf1a4777423393e30c94b3b90d6d": {
      "model_module": "plotlywidget",
      "model_module_version": "^0.11.0",
      "model_name": "FigureModel",
      "state": {
       "_config": {
        "plotlyServerURL": "https://plot.ly"
       },
       "_data": [
        {
         "type": "scatter",
         "uid": "68abd20f-43df-4d01-98ba-d02c1bc36b1b",
         "x": [
          10,
          20,
          50,
          100,
          200,
          500,
          1000,
          1500
         ],
         "y": [
          14.145693828068348,
          11.78885053485719,
          9.341009217760698,
          8.010144057217003,
          7.1444555223439945,
          6.498740293548694,
          6.611432092105573,
          6.79564543586131
         ]
        }
       ],
       "_js2py_restyle": {},
       "_js2py_update": {},
       "_last_layout_edit_id": 12,
       "_last_trace_edit_id": 11,
       "_layout": {
        "autosize": true,
        "template": {}
       },
       "_py2js_animate": {},
       "_py2js_moveTraces": {},
       "_py2js_removeLayoutProps": {},
       "_py2js_removeTraceProps": {},
       "_py2js_restyle": {},
       "_py2js_update": {},
       "_view_count": 0
      }
     },
     "cce60a6c60e741f797d86df2d0b93cd7": {
      "model_module": "@jupyter-widgets/controls",
      "model_module_version": "1.4.0",
      "model_name": "ButtonStyleModel",
      "state": {}
     },
     "ccfcf5ae58224c328026bed7a445986d": {
      "model_module": "@jupyter-widgets/base",
      "model_module_version": "1.1.0",
      "model_name": "LayoutModel",
      "state": {}
     },
     "cd33c441485f469090719622430b569e": {
      "model_module": "@jupyter-widgets/controls",
      "model_module_version": "1.4.0",
      "model_name": "HTMLModel",
      "state": {
       "layout": "IPY_MODEL_1aa2c17ebdde47918599423f8851ade3",
       "style": "IPY_MODEL_77ecbc384eda4f49a502d3f297ad39ca"
      }
     },
     "cd6183325e564b4b893fe7911ece8bb2": {
      "model_module": "@jupyter-widgets/base",
      "model_module_version": "1.1.0",
      "model_name": "LayoutModel",
      "state": {}
     },
     "cdeb40dee6324649a8ea633a20882339": {
      "model_module": "@jupyter-widgets/controls",
      "model_module_version": "1.4.0",
      "model_name": "DescriptionStyleModel",
      "state": {
       "description_width": ""
      }
     },
     "ce2f3865e36a49569be2d00263040420": {
      "model_module": "@jupyter-widgets/controls",
      "model_module_version": "1.4.0",
      "model_name": "HTMLModel",
      "state": {
       "layout": "IPY_MODEL_e90ac6525b2c406a9e2b84242da85664",
       "style": "IPY_MODEL_8c535cd163724b55ae19f9094db519a8"
      }
     },
     "ce95f010c3654cc7aabe682a43522266": {
      "model_module": "@jupyter-widgets/controls",
      "model_module_version": "1.4.0",
      "model_name": "ButtonModel",
      "state": {
       "description": "Submit",
       "layout": "IPY_MODEL_2833ba0cb19948cba94b5e4f356a416e",
       "style": "IPY_MODEL_6bc4cf64b3b048fea470d4581bfa8046"
      }
     },
     "cf4cd18a23dd4914ae6bdd736e713b38": {
      "model_module": "@jupyter-widgets/controls",
      "model_module_version": "1.4.0",
      "model_name": "ButtonModel",
      "state": {
       "description": "Submit",
       "layout": "IPY_MODEL_abb24fc7976e407eb74ae11d94e0e6dd",
       "style": "IPY_MODEL_7d811a6ff01b417d8fd7884019706e8a"
      }
     },
     "cfa43f0e4c1c42a4a31cdfd053a4c041": {
      "model_module": "@jupyter-widgets/base",
      "model_module_version": "1.1.0",
      "model_name": "LayoutModel",
      "state": {}
     },
     "d0f3515d5f8a431282182ed87fe534dc": {
      "model_module": "@jupyter-widgets/controls",
      "model_module_version": "1.4.0",
      "model_name": "ButtonModel",
      "state": {
       "description": "Submit",
       "layout": "IPY_MODEL_03642c295c1840a8b48435fccc8a7e66",
       "style": "IPY_MODEL_614f48a1ecff41a0b93d1f129d06f3a4"
      }
     },
     "d18014e47fd343d09f9e7fe4de0d4b3d": {
      "model_module": "@jupyter-widgets/controls",
      "model_module_version": "1.4.0",
      "model_name": "ValidModel",
      "state": {
       "layout": "IPY_MODEL_dcc2dbe0a395452aa98d2e1fb2f10e21",
       "style": "IPY_MODEL_6abd4247ac144d9bbc4ee4caecdecac0"
      }
     },
     "d1a283981cf64dcc88463f8896d8f23e": {
      "model_module": "@jupyter-widgets/controls",
      "model_module_version": "1.4.0",
      "model_name": "DescriptionStyleModel",
      "state": {
       "description_width": ""
      }
     },
     "d1c1d050e43441129a83078427073b08": {
      "model_module": "@jupyter-widgets/base",
      "model_module_version": "1.1.0",
      "model_name": "LayoutModel",
      "state": {}
     },
     "d1e97b1c88f44cdabde96778ea471bc7": {
      "model_module": "@jupyter-widgets/base",
      "model_module_version": "1.1.0",
      "model_name": "LayoutModel",
      "state": {}
     },
     "d234da008bb74dfb8463884fa6b9bef4": {
      "model_module": "@jupyter-widgets/controls",
      "model_module_version": "1.4.0",
      "model_name": "DescriptionStyleModel",
      "state": {
       "description_width": ""
      }
     },
     "d26bb58dd7ec4a78822a4f18512548bf": {
      "model_module": "@jupyter-widgets/controls",
      "model_module_version": "1.4.0",
      "model_name": "DescriptionStyleModel",
      "state": {
       "description_width": ""
      }
     },
     "d2b55c1a29da418680c36cc3d3029847": {
      "model_module": "@jupyter-widgets/controls",
      "model_module_version": "1.4.0",
      "model_name": "HBoxModel",
      "state": {
       "children": [
        "IPY_MODEL_6430a64372ba48e292f9969ea5a97bc7",
        "IPY_MODEL_54baa5c6a4524dd3bdfe10a6db5a9fd4",
        "IPY_MODEL_d0f3515d5f8a431282182ed87fe534dc",
        "IPY_MODEL_ca0be025441c4488b25904923ec84648"
       ],
       "layout": "IPY_MODEL_8646b534dc604be4ac8017ff1f32f7cf"
      }
     },
     "d2c81b0acdaf4a86b8bdd679202f23be": {
      "model_module": "@jupyter-widgets/controls",
      "model_module_version": "1.4.0",
      "model_name": "ButtonModel",
      "state": {
       "description": "Submit",
       "layout": "IPY_MODEL_ae597ba2a9294482990404e056af850d",
       "style": "IPY_MODEL_b0be45f21fc54f0f859ca6f542d14287"
      }
     },
     "d2d45e53e6ef4e9ab23822cd1202f6b0": {
      "model_module": "@jupyter-widgets/base",
      "model_module_version": "1.1.0",
      "model_name": "LayoutModel",
      "state": {}
     },
     "d5c70993b6ee4c85a8a3e1de2d3a993b": {
      "model_module": "@jupyter-widgets/controls",
      "model_module_version": "1.4.0",
      "model_name": "DescriptionStyleModel",
      "state": {
       "description_width": ""
      }
     },
     "d5caa0c3e59a4168b6b4fd88054dc1bb": {
      "model_module": "@jupyter-widgets/controls",
      "model_module_version": "1.4.0",
      "model_name": "BoundedFloatTextModel",
      "state": {
       "description": "Probability of Risk (%):",
       "layout": "IPY_MODEL_ea160b9342c64f55866f4b71b3911b2d",
       "step": 1,
       "style": "IPY_MODEL_299e7899fa2442028f78eef983f7fa18",
       "value": 5
      }
     },
     "d5d5187ab5c74cbd905da6f8097fc48b": {
      "model_module": "@jupyter-widgets/controls",
      "model_module_version": "1.4.0",
      "model_name": "VBoxModel",
      "state": {
       "children": [
        "IPY_MODEL_f9a7d40a9b2e4719be5983462df1735e",
        "IPY_MODEL_a57c0a75feae443896da7fbb19c9928d"
       ],
       "layout": "IPY_MODEL_4382a61974104384b24fb49b34d4a222"
      }
     },
     "d6b04271d6e04ad49c4802f193200097": {
      "model_module": "@jupyter-widgets/controls",
      "model_module_version": "1.4.0",
      "model_name": "DescriptionStyleModel",
      "state": {
       "description_width": ""
      }
     },
     "d6bf63d47ccb4236b9dd2df5f58417e8": {
      "model_module": "@jupyter-widgets/base",
      "model_module_version": "1.1.0",
      "model_name": "LayoutModel",
      "state": {}
     },
     "d71fb0928bee4bd1bd894dff205fce7f": {
      "model_module": "@jupyter-widgets/base",
      "model_module_version": "1.1.0",
      "model_name": "LayoutModel",
      "state": {}
     },
     "d764331b331b403f92fbf09691e31a5b": {
      "model_module": "@jupyter-widgets/controls",
      "model_module_version": "1.4.0",
      "model_name": "ButtonModel",
      "state": {
       "description": "Submit",
       "layout": "IPY_MODEL_698c5cd90fe94c9a8cf34f28e5aa9145",
       "style": "IPY_MODEL_3605e1cb17ee497b9ebd014501eb6c0d"
      }
     },
     "d7f3f203a1ab419e9e8292133482b7a3": {
      "model_module": "@jupyter-widgets/base",
      "model_module_version": "1.1.0",
      "model_name": "LayoutModel",
      "state": {}
     },
     "d7fa0198d21f4eaf9640b9f8891503ac": {
      "model_module": "plotlywidget",
      "model_module_version": "^0.11.0",
      "model_name": "FigureModel",
      "state": {
       "_js2py_layoutDelta": {},
       "_js2py_pointsCallback": {},
       "_js2py_relayout": {},
       "_js2py_restyle": {},
       "_js2py_traceDeltas": {},
       "_js2py_update": {},
       "_py2js_addTraces": {},
       "_py2js_animate": {},
       "_py2js_deleteTraces": {},
       "_py2js_moveTraces": {},
       "_py2js_relayout": {},
       "_py2js_removeLayoutProps": {},
       "_py2js_removeTraceProps": {},
       "_py2js_restyle": {},
       "_py2js_update": {}
      }
     },
     "d85572c35d81410095349e9cdfad7d64": {
      "model_module": "@jupyter-widgets/base",
      "model_module_version": "1.1.0",
      "model_name": "LayoutModel",
      "state": {}
     },
     "d871a4fe3e794995ae04847657ea77d2": {
      "model_module": "@jupyter-widgets/base",
      "model_module_version": "1.1.0",
      "model_name": "LayoutModel",
      "state": {}
     },
     "d8bb82f7d4fe4bb38ed7f7df7d109086": {
      "model_module": "@jupyter-widgets/controls",
      "model_module_version": "1.4.0",
      "model_name": "BoundedFloatTextModel",
      "state": {
       "description": "Probability of Risk (%):",
       "layout": "IPY_MODEL_f150896596834ccbaeb0bc76f2d8cea4",
       "step": 1,
       "style": "IPY_MODEL_fbffd6a0a02846b18bb33bfb9af58e2a",
       "value": 5
      }
     },
     "d9f48a6e61bb47daa23c696eb79cbbed": {
      "model_module": "@jupyter-widgets/base",
      "model_module_version": "1.1.0",
      "model_name": "LayoutModel",
      "state": {}
     },
     "da54263b13d14421923f87dcda51166f": {
      "model_module": "@jupyter-widgets/controls",
      "model_module_version": "1.4.0",
      "model_name": "ButtonModel",
      "state": {
       "description": "Submit",
       "layout": "IPY_MODEL_d2d45e53e6ef4e9ab23822cd1202f6b0",
       "style": "IPY_MODEL_9025ae46aaa64da9a8970c846ef0a9e2"
      }
     },
     "dac8c590b2654e0aa65b58b22989ee4c": {
      "model_module": "@jupyter-widgets/base",
      "model_module_version": "1.1.0",
      "model_name": "LayoutModel",
      "state": {}
     },
     "db53383edcac4064845a6f1675e6985c": {
      "model_module": "@jupyter-widgets/base",
      "model_module_version": "1.1.0",
      "model_name": "LayoutModel",
      "state": {}
     },
     "dc95a5b501cf42d0880d507e3e546627": {
      "model_module": "@jupyter-widgets/controls",
      "model_module_version": "1.4.0",
      "model_name": "ButtonModel",
      "state": {
       "description": "Submit",
       "layout": "IPY_MODEL_5337b3a7062240f8b1e1b5b1951dff03",
       "style": "IPY_MODEL_bcaad0510d54468fb070673789a94e29"
      }
     },
     "dcc2dbe0a395452aa98d2e1fb2f10e21": {
      "model_module": "@jupyter-widgets/base",
      "model_module_version": "1.1.0",
      "model_name": "LayoutModel",
      "state": {}
     },
     "dd1f57967a3c4c0e930b62840c12844d": {
      "model_module": "@jupyter-widgets/base",
      "model_module_version": "1.1.0",
      "model_name": "LayoutModel",
      "state": {}
     },
     "dd238a85f0184e40b1200d9b1c9f4ad2": {
      "model_module": "@jupyter-widgets/controls",
      "model_module_version": "1.4.0",
      "model_name": "DescriptionStyleModel",
      "state": {
       "description_width": ""
      }
     },
     "dd470dc980964021b4057048ce301684": {
      "model_module": "@jupyter-widgets/controls",
      "model_module_version": "1.4.0",
      "model_name": "HBoxModel",
      "state": {
       "children": [
        "IPY_MODEL_de92d6e8e43b4a1ca2a80ac5689fb71e",
        "IPY_MODEL_1c41e5e069ed4b608832c19194a9730c",
        "IPY_MODEL_ef56677ae6c5470fb634e8ac8fe0a931",
        "IPY_MODEL_fcca04001c8e42dc9ffef2ab9e52215b"
       ],
       "layout": "IPY_MODEL_27303e781aaf48dfb010cabc4181a367"
      }
     },
     "de32ed3ba7054727b649277f16a010bc": {
      "model_module": "@jupyter-widgets/base",
      "model_module_version": "1.1.0",
      "model_name": "LayoutModel",
      "state": {}
     },
     "de92d6e8e43b4a1ca2a80ac5689fb71e": {
      "model_module": "@jupyter-widgets/controls",
      "model_module_version": "1.4.0",
      "model_name": "LabelModel",
      "state": {
       "layout": "IPY_MODEL_14e2ea4b5b664ad2952c45c6dd51249c",
       "style": "IPY_MODEL_e96dcdccfbeb4a248c752e3263dba0d7",
       "value": "Target Risk Probability (%):"
      }
     },
     "def1ab5c5f7d4f729a555ed4372d3d0b": {
      "model_module": "@jupyter-widgets/base",
      "model_module_version": "1.1.0",
      "model_name": "DOMWidgetModel",
      "state": {
       "_graph_url": "https://plot.ly/~playground/7",
       "_message": "",
       "_model_name": "DOMWidgetModel",
       "_new_url": "",
       "_view_module": "graphWidget",
       "_view_module_version": "",
       "_view_name": "GraphView",
       "layout": "IPY_MODEL_e1f8d54e19e743d8827e8ca7db55f988"
      }
     },
     "dfcb151868de4201818e5dc9aa9b7153": {
      "model_module": "@jupyter-widgets/controls",
      "model_module_version": "1.4.0",
      "model_name": "HTMLModel",
      "state": {
       "layout": "IPY_MODEL_c0a847638729498796df8957cec91f0b",
       "style": "IPY_MODEL_088e620eba4b4d988e075540abe0ad1d"
      }
     },
     "e014bfc7338243ca83c7d54a5a9806a0": {
      "model_module": "@jupyter-widgets/base",
      "model_module_version": "1.1.0",
      "model_name": "LayoutModel",
      "state": {}
     },
     "e06d8273fe8f4a0085f3921604928bc6": {
      "model_module": "@jupyter-widgets/base",
      "model_module_version": "1.1.0",
      "model_name": "LayoutModel",
      "state": {}
     },
     "e1f8d54e19e743d8827e8ca7db55f988": {
      "model_module": "@jupyter-widgets/base",
      "model_module_version": "1.1.0",
      "model_name": "LayoutModel",
      "state": {}
     },
     "e34ca1e6e9df48cfa1303e8a8d345c94": {
      "model_module": "@jupyter-widgets/base",
      "model_module_version": "1.1.0",
      "model_name": "LayoutModel",
      "state": {}
     },
     "e3a269aa73a54fe5ba31e0687807936d": {
      "model_module": "@jupyter-widgets/controls",
      "model_module_version": "1.4.0",
      "model_name": "BoundedFloatTextModel",
      "state": {
       "description": "Probability of Risk (%):",
       "layout": "IPY_MODEL_506c69239b034b65842b90c65d6f8a0c",
       "step": 1,
       "style": "IPY_MODEL_d26bb58dd7ec4a78822a4f18512548bf",
       "value": 5
      }
     },
     "e4eb98ece90c4905832a45183bc6924f": {
      "model_module": "@jupyter-widgets/controls",
      "model_module_version": "1.4.0",
      "model_name": "DescriptionStyleModel",
      "state": {
       "description_width": ""
      }
     },
     "e50c032447ea41a0b2f61c98d1dd5110": {
      "model_module": "@jupyter-widgets/controls",
      "model_module_version": "1.4.0",
      "model_name": "ValidModel",
      "state": {
       "layout": "IPY_MODEL_04f35d5e8df945d7a0a65b34bce47ed9",
       "style": "IPY_MODEL_c3753404db1048bfa5281551f8f10223",
       "value": true
      }
     },
     "e5823e361905426fbcef4b93306d7c19": {
      "model_module": "@jupyter-widgets/controls",
      "model_module_version": "1.4.0",
      "model_name": "DescriptionStyleModel",
      "state": {
       "description_width": ""
      }
     },
     "e59cfa09e90f4aa989ba6cacb4d8ad6c": {
      "model_module": "@jupyter-widgets/controls",
      "model_module_version": "1.4.0",
      "model_name": "VBoxModel",
      "state": {
       "children": [
        "IPY_MODEL_5bcf103086ad4293bcd2e82f3b3b411d",
        "IPY_MODEL_f5d4d19cfd2149e0a3f49ef49aeddccc"
       ],
       "layout": "IPY_MODEL_15709be73a864d4882d28bd9c973ab34"
      }
     },
     "e7a4c8958aa5495eb46d540ee48ebf6f": {
      "model_module": "plotlywidget",
      "model_module_version": "^0.11.0",
      "model_name": "FigureModel",
      "state": {
       "_config": {
        "plotlyServerURL": "https://plot.ly"
       },
       "_data": [
        {
         "type": "scatter",
         "uid": "962c7a95-01b5-4b2d-a18d-6499b878744e",
         "x": [
          10,
          20,
          50,
          100,
          200,
          500,
          1000,
          1500
         ],
         "y": [
          20.96598515849485,
          16.079962319178033,
          11.889736083015691,
          9.780018610798596,
          8.226923867139623,
          7.356944179259375,
          7.268476857339998,
          7.297809486986749
         ]
        }
       ],
       "_js2py_restyle": {},
       "_js2py_update": {},
       "_last_layout_edit_id": 2,
       "_last_trace_edit_id": 1,
       "_layout": {
        "autosize": true,
        "template": {}
       },
       "_py2js_animate": {},
       "_py2js_deleteTraces": {},
       "_py2js_moveTraces": {},
       "_py2js_removeLayoutProps": {},
       "_py2js_removeTraceProps": {},
       "_py2js_restyle": {},
       "_py2js_update": {},
       "_view_count": 0
      }
     },
     "e7ee53be21bd464d9c2cecf92541c931": {
      "model_module": "@jupyter-widgets/controls",
      "model_module_version": "1.4.0",
      "model_name": "DescriptionStyleModel",
      "state": {
       "description_width": ""
      }
     },
     "e84fa1249fe043a4893ac7584fe362cd": {
      "model_module": "@jupyter-widgets/controls",
      "model_module_version": "1.4.0",
      "model_name": "ValidModel",
      "state": {
       "layout": "IPY_MODEL_3ee7987969cd490d9eb8d85542c7aed1",
       "style": "IPY_MODEL_78ea9d6a0a3c4058843f63f5370e2440",
       "value": true
      }
     },
     "e8642430c70c4b808d71a3fd914f890b": {
      "model_module": "@jupyter-widgets/controls",
      "model_module_version": "1.4.0",
      "model_name": "BoundedFloatTextModel",
      "state": {
       "description": "Probability of Risk (%):",
       "layout": "IPY_MODEL_fec76318c5d941aaaeef9380c470e777",
       "step": 1,
       "style": "IPY_MODEL_0d872db599a9482986e60424aab99a5f",
       "value": 5
      }
     },
     "e90ac6525b2c406a9e2b84242da85664": {
      "model_module": "@jupyter-widgets/base",
      "model_module_version": "1.1.0",
      "model_name": "LayoutModel",
      "state": {}
     },
     "e92ba5df85884196b24bdf88a4c0ff2a": {
      "model_module": "@jupyter-widgets/controls",
      "model_module_version": "1.4.0",
      "model_name": "HTMLModel",
      "state": {
       "layout": "IPY_MODEL_bdd62380b17341e0b932821da7903985",
       "style": "IPY_MODEL_393af38a1400455682022e103e665dfa"
      }
     },
     "e96dcdccfbeb4a248c752e3263dba0d7": {
      "model_module": "@jupyter-widgets/controls",
      "model_module_version": "1.4.0",
      "model_name": "DescriptionStyleModel",
      "state": {
       "description_width": ""
      }
     },
     "e9f5035cc201410883ff350b7b2caa03": {
      "model_module": "@jupyter-widgets/controls",
      "model_module_version": "1.4.0",
      "model_name": "DescriptionStyleModel",
      "state": {
       "description_width": ""
      }
     },
     "e9f821fef9544be79d2ba88af9cfa2c5": {
      "model_module": "@jupyter-widgets/controls",
      "model_module_version": "1.4.0",
      "model_name": "ButtonStyleModel",
      "state": {}
     },
     "ea160b9342c64f55866f4b71b3911b2d": {
      "model_module": "@jupyter-widgets/base",
      "model_module_version": "1.1.0",
      "model_name": "LayoutModel",
      "state": {}
     },
     "ea2fa104d71f4a16979690bfb9f40f96": {
      "model_module": "@jupyter-widgets/base",
      "model_module_version": "1.1.0",
      "model_name": "LayoutModel",
      "state": {}
     },
     "ea4d07791ce548d1a4bc86d98f0c99fc": {
      "model_module": "@jupyter-widgets/base",
      "model_module_version": "1.1.0",
      "model_name": "LayoutModel",
      "state": {}
     },
     "ead92b198dba49dd9e01cc8049d5dc52": {
      "model_module": "@jupyter-widgets/controls",
      "model_module_version": "1.4.0",
      "model_name": "ValidModel",
      "state": {
       "layout": "IPY_MODEL_079f98c775574f9c82d11a95529a31fb",
       "style": "IPY_MODEL_b47fa4ee4896482290c8dc427c7017f9",
       "value": true
      }
     },
     "eaef35d669e14f8f982da1cfa46aa212": {
      "model_module": "@jupyter-widgets/base",
      "model_module_version": "1.1.0",
      "model_name": "LayoutModel",
      "state": {}
     },
     "ec339a3db06f44b7a9a482ba8c4bf29c": {
      "model_module": "@jupyter-widgets/base",
      "model_module_version": "1.1.0",
      "model_name": "LayoutModel",
      "state": {}
     },
     "ed1e880a6468446797c6c1cd45e305c9": {
      "model_module": "@jupyter-widgets/controls",
      "model_module_version": "1.4.0",
      "model_name": "HBoxModel",
      "state": {
       "children": [
        "IPY_MODEL_fb5be33428b24bad8f9440e1d6fbb25c",
        "IPY_MODEL_94c27eb8ba864c10b99e3c848846b5e7",
        "IPY_MODEL_59ca62cda853484cb6edc470e9a3c832",
        "IPY_MODEL_b4d6773adfeb4b3fab04f2f3f8c204d6"
       ],
       "layout": "IPY_MODEL_dac8c590b2654e0aa65b58b22989ee4c"
      }
     },
     "ed4017d744184f93948310a7afa09ebb": {
      "model_module": "@jupyter-widgets/controls",
      "model_module_version": "1.4.0",
      "model_name": "ValidModel",
      "state": {
       "layout": "IPY_MODEL_cfa43f0e4c1c42a4a31cdfd053a4c041",
       "style": "IPY_MODEL_ba6994728c1e45ce9daee706dcac910d",
       "value": true
      }
     },
     "ef56677ae6c5470fb634e8ac8fe0a931": {
      "model_module": "@jupyter-widgets/controls",
      "model_module_version": "1.4.0",
      "model_name": "ButtonModel",
      "state": {
       "description": "Submit",
       "layout": "IPY_MODEL_1ff882e11f9d4eab9653ab584ee0eef2",
       "style": "IPY_MODEL_0f5dea7c2d0f4fbdae3a09993ab26536"
      }
     },
     "ef7f4d9225b040248882c8d7175f0ed4": {
      "model_module": "@jupyter-widgets/controls",
      "model_module_version": "1.4.0",
      "model_name": "DescriptionStyleModel",
      "state": {
       "description_width": ""
      }
     },
     "f024e7fe2ca34fd9aa69a0420f21999d": {
      "model_module": "@jupyter-widgets/controls",
      "model_module_version": "1.4.0",
      "model_name": "DescriptionStyleModel",
      "state": {
       "description_width": ""
      }
     },
     "f0d29203db354a4a9d2c23bb2cfb3520": {
      "model_module": "@jupyter-widgets/controls",
      "model_module_version": "1.4.0",
      "model_name": "HTMLModel",
      "state": {
       "layout": "IPY_MODEL_1403976fc123487787a44ad2371ff65d",
       "style": "IPY_MODEL_e7ee53be21bd464d9c2cecf92541c931"
      }
     },
     "f13c27531bea4850a0fbcfbf5ab8bf62": {
      "model_module": "@jupyter-widgets/base",
      "model_module_version": "1.1.0",
      "model_name": "LayoutModel",
      "state": {}
     },
     "f150896596834ccbaeb0bc76f2d8cea4": {
      "model_module": "@jupyter-widgets/base",
      "model_module_version": "1.1.0",
      "model_name": "LayoutModel",
      "state": {}
     },
     "f19a74cc471d4fe9baea82242341546f": {
      "model_module": "plotlywidget",
      "model_module_version": "^0.11.0",
      "model_name": "FigureModel",
      "state": {
       "_config": {
        "plotlyServerURL": "https://plot.ly"
       },
       "_js2py_pointsCallback": {},
       "_js2py_restyle": {},
       "_js2py_update": {},
       "_last_layout_edit_id": 1,
       "_layout": {
        "autosize": true,
        "template": {}
       },
       "_py2js_addTraces": {},
       "_py2js_animate": {},
       "_py2js_deleteTraces": {},
       "_py2js_moveTraces": {},
       "_py2js_removeLayoutProps": {},
       "_py2js_removeTraceProps": {},
       "_py2js_restyle": {},
       "_py2js_update": {},
       "_view_count": 0
      }
     },
     "f1bd26395f3843428bed0e3226200590": {
      "model_module": "@jupyter-widgets/controls",
      "model_module_version": "1.4.0",
      "model_name": "DescriptionStyleModel",
      "state": {
       "description_width": ""
      }
     },
     "f2642e9460954e23b7140998e98a754f": {
      "model_module": "@jupyter-widgets/controls",
      "model_module_version": "1.4.0",
      "model_name": "ValidModel",
      "state": {
       "layout": "IPY_MODEL_0ae13412bc634240bd9bb149795f8908",
       "style": "IPY_MODEL_35b3f24049c74101bb72235be41df9eb",
       "value": true
      }
     },
     "f4d705626ca54f5d87f689b665cb84d6": {
      "model_module": "@jupyter-widgets/controls",
      "model_module_version": "1.4.0",
      "model_name": "DescriptionStyleModel",
      "state": {
       "description_width": ""
      }
     },
     "f55fe2ff42144a31a77a65446a6b4cbe": {
      "model_module": "@jupyter-widgets/controls",
      "model_module_version": "1.4.0",
      "model_name": "DescriptionStyleModel",
      "state": {
       "description_width": ""
      }
     },
     "f598a7ac81e74444b6175022ed94bd18": {
      "model_module": "@jupyter-widgets/controls",
      "model_module_version": "1.4.0",
      "model_name": "ButtonStyleModel",
      "state": {}
     },
     "f5d4d19cfd2149e0a3f49ef49aeddccc": {
      "model_module": "plotlywidget",
      "model_module_version": "^0.11.0",
      "model_name": "FigureModel",
      "state": {
       "_config": {
        "plotlyServerURL": "https://plot.ly"
       },
       "_js2py_pointsCallback": {},
       "_js2py_restyle": {},
       "_js2py_update": {},
       "_last_layout_edit_id": 1,
       "_layout": {
        "autosize": true,
        "template": {}
       },
       "_py2js_addTraces": {},
       "_py2js_animate": {},
       "_py2js_deleteTraces": {},
       "_py2js_moveTraces": {},
       "_py2js_removeLayoutProps": {},
       "_py2js_removeTraceProps": {},
       "_py2js_restyle": {},
       "_py2js_update": {},
       "_view_count": 0
      }
     },
     "f60b3c48e4ab42e1ac43f44267c11dd7": {
      "model_module": "@jupyter-widgets/base",
      "model_module_version": "1.1.0",
      "model_name": "LayoutModel",
      "state": {}
     },
     "f63360f111924b4aa5094b18250fb726": {
      "model_module": "@jupyter-widgets/controls",
      "model_module_version": "1.4.0",
      "model_name": "HTMLModel",
      "state": {
       "layout": "IPY_MODEL_f13c27531bea4850a0fbcfbf5ab8bf62",
       "style": "IPY_MODEL_3c27012018a541cf845f4611e0d5f7a6"
      }
     },
     "f6c2501ccc2041428464bdf38c4ff02c": {
      "model_module": "@jupyter-widgets/controls",
      "model_module_version": "1.4.0",
      "model_name": "HBoxModel",
      "state": {
       "children": [
        "IPY_MODEL_ca9fc2c8852142b789137a7603d699fd",
        "IPY_MODEL_059aed2a4b79455ba539c68349bc76a0",
        "IPY_MODEL_cf4cd18a23dd4914ae6bdd736e713b38",
        "IPY_MODEL_847420369e2f4e0bba40b6251103390c"
       ],
       "layout": "IPY_MODEL_c511b610a9644b54b47864c672f20236"
      }
     },
     "f737c73fd0e9408999f6cbffecf1f0ba": {
      "model_module": "@jupyter-widgets/base",
      "model_module_version": "1.1.0",
      "model_name": "LayoutModel",
      "state": {}
     },
     "f7d946f67bdc41c5926feac0ce79b6dd": {
      "model_module": "@jupyter-widgets/base",
      "model_module_version": "1.1.0",
      "model_name": "LayoutModel",
      "state": {}
     },
     "f8ea34e6ea5f4be48b851a363a60d761": {
      "model_module": "@jupyter-widgets/controls",
      "model_module_version": "1.4.0",
      "model_name": "ButtonStyleModel",
      "state": {}
     },
     "f90bbaf4dfb84dc3b2d79de9fe40c549": {
      "model_module": "@jupyter-widgets/base",
      "model_module_version": "1.1.0",
      "model_name": "LayoutModel",
      "state": {}
     },
     "f9a52fe7e3774069ba87b21b888e8343": {
      "model_module": "@jupyter-widgets/controls",
      "model_module_version": "1.4.0",
      "model_name": "ButtonStyleModel",
      "state": {}
     },
     "f9a7d40a9b2e4719be5983462df1735e": {
      "model_module": "@jupyter-widgets/controls",
      "model_module_version": "1.4.0",
      "model_name": "HBoxModel",
      "state": {
       "children": [
        "IPY_MODEL_e3a269aa73a54fe5ba31e0687807936d",
        "IPY_MODEL_52aa62ff2a9a4308a83bcabcbbb4492b",
        "IPY_MODEL_367ab2a950eb4ef5abbbf7d38e4ac189",
        "IPY_MODEL_416fede4fdb24c029cbfb25ce3cd6c89"
       ],
       "layout": "IPY_MODEL_dd1f57967a3c4c0e930b62840c12844d"
      }
     },
     "f9c2e75798a54223966d829ed87c2f1d": {
      "model_module": "@jupyter-widgets/controls",
      "model_module_version": "1.4.0",
      "model_name": "BoundedFloatTextModel",
      "state": {
       "description": "Probability of Risk (%):",
       "layout": "IPY_MODEL_292bd4e2f4334f41884c52d363d7a826",
       "step": 1,
       "style": "IPY_MODEL_b9bebb95d44f463097615145fc33152a",
       "value": 5
      }
     },
     "fa5780344f9147af82a32edfed78025b": {
      "model_module": "@jupyter-widgets/base",
      "model_module_version": "1.1.0",
      "model_name": "LayoutModel",
      "state": {}
     },
     "fa70c437cede4f1dae5bfaded52b2682": {
      "model_module": "@jupyter-widgets/controls",
      "model_module_version": "1.4.0",
      "model_name": "VBoxModel",
      "state": {
       "children": [
        "IPY_MODEL_c6ce82db366847779ba1f00f36c09a1b",
        "IPY_MODEL_a93253dda852403691b07a6a8288a4c4"
       ],
       "layout": "IPY_MODEL_d71fb0928bee4bd1bd894dff205fce7f"
      }
     },
     "fb1c3a11aae245ce8c9300446fe49d29": {
      "model_module": "@jupyter-widgets/controls",
      "model_module_version": "1.4.0",
      "model_name": "DescriptionStyleModel",
      "state": {
       "description_width": ""
      }
     },
     "fb35124ba92142ba9945e4aec287ce41": {
      "model_module": "@jupyter-widgets/controls",
      "model_module_version": "1.4.0",
      "model_name": "VBoxModel",
      "state": {
       "children": [
        "IPY_MODEL_38366ac48a384eccac942f9cfaab7974",
        "IPY_MODEL_6f04543413fe499bad36200ae118e634"
       ],
       "layout": "IPY_MODEL_3bdd1ec71bcf4cb1855798b34fdd57e7"
      }
     },
     "fb5ac471a0d541c886b8c304c6f3e7d2": {
      "model_module": "@jupyter-widgets/base",
      "model_module_version": "1.1.0",
      "model_name": "LayoutModel",
      "state": {}
     },
     "fb5be33428b24bad8f9440e1d6fbb25c": {
      "model_module": "@jupyter-widgets/controls",
      "model_module_version": "1.4.0",
      "model_name": "BoundedFloatTextModel",
      "state": {
       "description": "Probability of Risk (%):",
       "layout": "IPY_MODEL_03ee96eb40d74364afae54f00c1544c1",
       "step": 1,
       "style": "IPY_MODEL_82bfd16bf1114ee6b07d6a6731cac28c",
       "value": 5
      }
     },
     "fbffd6a0a02846b18bb33bfb9af58e2a": {
      "model_module": "@jupyter-widgets/controls",
      "model_module_version": "1.4.0",
      "model_name": "DescriptionStyleModel",
      "state": {
       "description_width": ""
      }
     },
     "fc4fef3413254f00809945d25abca964": {
      "model_module": "@jupyter-widgets/controls",
      "model_module_version": "1.4.0",
      "model_name": "DescriptionStyleModel",
      "state": {
       "description_width": ""
      }
     },
     "fcc4f83e00174faea96a1b4578233c4f": {
      "model_module": "@jupyter-widgets/controls",
      "model_module_version": "1.4.0",
      "model_name": "BoundedFloatTextModel",
      "state": {
       "layout": "IPY_MODEL_a7789a5b76424e1ab2c242ecdf011937",
       "step": 1,
       "style": "IPY_MODEL_00adc9de220d4717a1659e914ff6651f",
       "value": 5
      }
     },
     "fcca04001c8e42dc9ffef2ab9e52215b": {
      "model_module": "@jupyter-widgets/controls",
      "model_module_version": "1.4.0",
      "model_name": "ValidModel",
      "state": {
       "layout": "IPY_MODEL_d1c1d050e43441129a83078427073b08",
       "style": "IPY_MODEL_7bf306f8471f4475bb08f9a3554afb65",
       "value": true
      }
     },
     "fd635f77a87744d4a3fa3f1bed09440c": {
      "model_module": "@jupyter-widgets/controls",
      "model_module_version": "1.4.0",
      "model_name": "DescriptionStyleModel",
      "state": {
       "description_width": ""
      }
     },
     "fe4a5e026d284f00b13aa793c0f87b1c": {
      "model_module": "@jupyter-widgets/base",
      "model_module_version": "1.1.0",
      "model_name": "LayoutModel",
      "state": {}
     },
     "fe567d787d924de8b29fa3bd2fcbb6f6": {
      "model_module": "@jupyter-widgets/controls",
      "model_module_version": "1.4.0",
      "model_name": "DescriptionStyleModel",
      "state": {
       "description_width": ""
      }
     },
     "fe71ec0c7f2c47279bbd1fca3d592ea6": {
      "model_module": "@jupyter-widgets/base",
      "model_module_version": "1.1.0",
      "model_name": "LayoutModel",
      "state": {}
     },
     "fec76318c5d941aaaeef9380c470e777": {
      "model_module": "@jupyter-widgets/base",
      "model_module_version": "1.1.0",
      "model_name": "LayoutModel",
      "state": {}
     },
     "fed736766d87405e9a92ce47322d0186": {
      "model_module": "@jupyter-widgets/controls",
      "model_module_version": "1.4.0",
      "model_name": "DescriptionStyleModel",
      "state": {
       "description_width": ""
      }
     },
     "fffdbe88450d4bc5a188948070236e75": {
      "model_module": "@jupyter-widgets/controls",
      "model_module_version": "1.4.0",
      "model_name": "ButtonModel",
      "state": {
       "description": "Submit",
       "layout": "IPY_MODEL_76e69430e3354bc2ac1dbb2bbd616881",
       "style": "IPY_MODEL_f598a7ac81e74444b6175022ed94bd18"
      }
     }
    },
    "version_major": 2,
    "version_minor": 0
   }
  }
 },
 "nbformat": 4,
 "nbformat_minor": 2
}
